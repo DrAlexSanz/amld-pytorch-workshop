{
  "nbformat": 4,
  "nbformat_minor": 0,
  "metadata": {
    "kernelspec": {
      "name": "python3",
      "display_name": "Python 3"
    },
    "language_info": {
      "codemirror_mode": {
        "name": "ipython",
        "version": 3
      },
      "file_extension": ".py",
      "mimetype": "text/x-python",
      "name": "python",
      "nbconvert_exporter": "python",
      "pygments_lexer": "ipython3",
      "version": "3.7.4"
    },
    "colab": {
      "name": "Copia de 1-Basics.ipynb",
      "provenance": [],
      "collapsed_sections": [],
      "include_colab_link": true
    },
    "accelerator": "GPU"
  },
  "cells": [
    {
      "cell_type": "markdown",
      "metadata": {
        "id": "view-in-github",
        "colab_type": "text"
      },
      "source": [
        "<a href=\"https://colab.research.google.com/github/DrAlexSanz/amld-pytorch-workshop/blob/master/ALEX_1_Basics.ipynb\" target=\"_parent\"><img src=\"https://colab.research.google.com/assets/colab-badge.svg\" alt=\"Open In Colab\"/></a>"
      ]
    },
    {
      "cell_type": "markdown",
      "metadata": {
        "id": "4ypOnc_Jr0gl",
        "colab_type": "text"
      },
      "source": [
        "<div>\n",
        "<img src=\"https://discuss.pytorch.org/uploads/default/original/2X/3/35226d9fbc661ced1c5d17e374638389178c3176.png\" width=\"400\" style=\"margin: 50px auto; display: block; position: relative; left: -30px;\" />\n",
        "</div>"
      ]
    },
    {
      "cell_type": "markdown",
      "metadata": {
        "id": "6ggSbYLCr0gr",
        "colab_type": "text"
      },
      "source": [
        "<!--NAVIGATION-->\n",
        "# | Basics | [Autograd >](2-Autograd.ipynb)"
      ]
    },
    {
      "cell_type": "markdown",
      "metadata": {
        "id": "P5R_UBbFr0gu",
        "colab_type": "text"
      },
      "source": [
        "### Basics\n",
        "\n",
        "In this first notebook, we will introduce Tensors, which are the base element in PyTorch.  \n",
        "We will see different ways to create Tensors and check their properties. Then, we will briefly go through all the different kind of operations they support, such as mathematical operations, indexing, reshaping, expansion, masking, type conversion, etc.\n",
        "\n",
        "### Table of Contents\n",
        "\n",
        "#### 1. [Introduction](#Introduction)  \n",
        "#### 2. [Tensor Creation](#Tensor-Creation)\n",
        "#### 3. [Tensor Properties](#Tensor-Properties)  \n",
        "#### 4. [Tensor Operations](#Tensor-Operations)  \n",
        "#### 5. [Tensor Conversions](#Tensor-Conversions)  "
      ]
    },
    {
      "cell_type": "markdown",
      "metadata": {
        "id": "g2Z99jwyr0gy",
        "colab_type": "text"
      },
      "source": [
        "---\n",
        "\n",
        "# Introduction"
      ]
    },
    {
      "cell_type": "markdown",
      "metadata": {
        "id": "lvF2ZdgVr0g3",
        "colab_type": "text"
      },
      "source": [
        "### What is PyTorch ?\n",
        "Python-based scientific computing library, similar to NumPy.  \n",
        "Differentiates from NumPy in 3 main aspects:\n",
        "- It allows to use the power of **GPU** computing\n",
        "- It comes with an **automatic differentiation** module\n",
        "- It is a fully-fledged **deep learning research platform**\n"
      ]
    },
    {
      "cell_type": "code",
      "metadata": {
        "id": "nKAULzdhr0g5",
        "colab_type": "code",
        "colab": {}
      },
      "source": [
        "import torch\n",
        "import numpy as np"
      ],
      "execution_count": 0,
      "outputs": []
    },
    {
      "cell_type": "code",
      "metadata": {
        "id": "3adnaJSvr0hA",
        "colab_type": "code",
        "outputId": "f9e0f699-b9d9-45ea-bdb6-1dfb176590f6",
        "colab": {
          "base_uri": "https://localhost:8080/",
          "height": 34
        }
      },
      "source": [
        "print(\"PyTorch Version:\", torch.__version__)"
      ],
      "execution_count": 0,
      "outputs": [
        {
          "output_type": "stream",
          "text": [
            "PyTorch Version: 1.3.1\n"
          ],
          "name": "stdout"
        }
      ]
    },
    {
      "cell_type": "markdown",
      "metadata": {
        "id": "GjBozVhFr0hH",
        "colab_type": "text"
      },
      "source": [
        "____"
      ]
    },
    {
      "cell_type": "markdown",
      "metadata": {
        "id": "R6ULKZKPr0hJ",
        "colab_type": "text"
      },
      "source": [
        "### What is a tensor?\n",
        "\n",
        "A **matrix** is a grid of numbers, let's say (3x5).  \n",
        "In simple terms, a **tensor** can be seen as a generalization of a matrix to higher dimension.  \n",
        "It can be of arbitrary shape, e.g. (3 x 6 x 2 x 10). \n",
        "\n",
        "You can think of tensors as multidimensional arrays."
      ]
    },
    {
      "cell_type": "code",
      "metadata": {
        "id": "pyAHTtDbr0hL",
        "colab_type": "code",
        "outputId": "88e31e19-08bc-433b-b14b-ac3ef8bd8a73",
        "colab": {
          "base_uri": "https://localhost:8080/",
          "height": 34
        }
      },
      "source": [
        "X = torch.tensor([1, 2, 3, 4, 5])\n",
        "X"
      ],
      "execution_count": 0,
      "outputs": [
        {
          "output_type": "execute_result",
          "data": {
            "text/plain": [
              "tensor([1, 2, 3, 4, 5])"
            ]
          },
          "metadata": {
            "tags": []
          },
          "execution_count": 3
        }
      ]
    },
    {
      "cell_type": "code",
      "metadata": {
        "id": "IpTD8uCxr0ha",
        "colab_type": "code",
        "outputId": "d6dd0608-6ac9-44aa-92eb-c8408c980cc1",
        "colab": {
          "base_uri": "https://localhost:8080/",
          "height": 34
        }
      },
      "source": [
        "X.shape"
      ],
      "execution_count": 0,
      "outputs": [
        {
          "output_type": "execute_result",
          "data": {
            "text/plain": [
              "torch.Size([5])"
            ]
          },
          "metadata": {
            "tags": []
          },
          "execution_count": 4
        }
      ]
    },
    {
      "cell_type": "code",
      "metadata": {
        "id": "LQ7C-c5Or0hn",
        "colab_type": "code",
        "outputId": "888da5d9-a672-461c-c75d-ccfae339aaad",
        "colab": {
          "base_uri": "https://localhost:8080/",
          "height": 51
        }
      },
      "source": [
        "X = torch.tensor([[1, 2, 3], [4, 5, 6]])\n",
        "X"
      ],
      "execution_count": 0,
      "outputs": [
        {
          "output_type": "execute_result",
          "data": {
            "text/plain": [
              "tensor([[1, 2, 3],\n",
              "        [4, 5, 6]])"
            ]
          },
          "metadata": {
            "tags": []
          },
          "execution_count": 5
        }
      ]
    },
    {
      "cell_type": "code",
      "metadata": {
        "id": "3vHlR-oEr0hz",
        "colab_type": "code",
        "outputId": "96aab238-94a5-46ce-f741-8a387fe6c0d0",
        "colab": {
          "base_uri": "https://localhost:8080/",
          "height": 34
        }
      },
      "source": [
        "X.shape"
      ],
      "execution_count": 0,
      "outputs": [
        {
          "output_type": "execute_result",
          "data": {
            "text/plain": [
              "torch.Size([2, 3])"
            ]
          },
          "metadata": {
            "tags": []
          },
          "execution_count": 6
        }
      ]
    },
    {
      "cell_type": "markdown",
      "metadata": {
        "id": "B3k7DuBqr0iH",
        "colab_type": "text"
      },
      "source": [
        "### PyTorch vs NumPy "
      ]
    },
    {
      "cell_type": "markdown",
      "metadata": {
        "id": "3zYGeRiVr0iJ",
        "colab_type": "text"
      },
      "source": [
        "`torch.tensor` behaves like `numpy.array` under mathematical operations.  \n",
        "The syntax is very similar between the two libraries.  \n",
        "If you are familiar with NumPy, you can [browse here](https://github.com/wkentaro/pytorch-for-numpy-users#types) to check what are NumPy functions equivalent in PyTorch.\n",
        "\n",
        "For example:"
      ]
    },
    {
      "cell_type": "code",
      "metadata": {
        "id": "nsCdt1mBr0iL",
        "colab_type": "code",
        "outputId": "ae61f6f7-94a6-4e22-c734-feb723bb762b",
        "colab": {
          "base_uri": "https://localhost:8080/",
          "height": 51
        }
      },
      "source": [
        "np.eye (2)"
      ],
      "execution_count": 0,
      "outputs": [
        {
          "output_type": "execute_result",
          "data": {
            "text/plain": [
              "array([[1., 0.],\n",
              "       [0., 1.]])"
            ]
          },
          "metadata": {
            "tags": []
          },
          "execution_count": 7
        }
      ]
    },
    {
      "cell_type": "code",
      "metadata": {
        "id": "ISxRaPBsr0iS",
        "colab_type": "code",
        "outputId": "15b5ab93-6b58-431d-b6ea-b390dc55e3fb",
        "colab": {
          "base_uri": "https://localhost:8080/",
          "height": 51
        }
      },
      "source": [
        "torch.eye(2)"
      ],
      "execution_count": 0,
      "outputs": [
        {
          "output_type": "execute_result",
          "data": {
            "text/plain": [
              "tensor([[1., 0.],\n",
              "        [0., 1.]])"
            ]
          },
          "metadata": {
            "tags": []
          },
          "execution_count": 8
        }
      ]
    },
    {
      "cell_type": "code",
      "metadata": {
        "id": "c2NFfSNgr0iZ",
        "colab_type": "code",
        "outputId": "b352f992-f7f0-429f-a027-f9158cafc1b5",
        "colab": {
          "base_uri": "https://localhost:8080/",
          "height": 34
        }
      },
      "source": [
        "np.arange(1,5)"
      ],
      "execution_count": 0,
      "outputs": [
        {
          "output_type": "execute_result",
          "data": {
            "text/plain": [
              "array([1, 2, 3, 4])"
            ]
          },
          "metadata": {
            "tags": []
          },
          "execution_count": 9
        }
      ]
    },
    {
      "cell_type": "code",
      "metadata": {
        "id": "CaoIKohKr0ie",
        "colab_type": "code",
        "outputId": "b6190e70-beab-402c-8623-ba7eaeb85cba",
        "colab": {
          "base_uri": "https://localhost:8080/",
          "height": 34
        }
      },
      "source": [
        "torch.arange(1,5)"
      ],
      "execution_count": 0,
      "outputs": [
        {
          "output_type": "execute_result",
          "data": {
            "text/plain": [
              "tensor([1, 2, 3, 4])"
            ]
          },
          "metadata": {
            "tags": []
          },
          "execution_count": 10
        }
      ]
    },
    {
      "cell_type": "markdown",
      "metadata": {
        "id": "5H3kgduKr0im",
        "colab_type": "text"
      },
      "source": [
        "As we said, `torch.tensor` additionally keeps track of the computation graphs (see next notebook) and provides GPU support."
      ]
    },
    {
      "cell_type": "markdown",
      "metadata": {
        "id": "93tvxBZ7r0io",
        "colab_type": "text"
      },
      "source": [
        "---\n",
        "\n",
        "# Tensor Creation"
      ]
    },
    {
      "cell_type": "code",
      "metadata": {
        "id": "Vso9Pd_kr0ip",
        "colab_type": "code",
        "outputId": "9c1019b7-f2f0-4969-9ad5-10bc46717236",
        "colab": {
          "base_uri": "https://localhost:8080/",
          "height": 68
        }
      },
      "source": [
        "torch.zeros((3, 5))"
      ],
      "execution_count": 0,
      "outputs": [
        {
          "output_type": "execute_result",
          "data": {
            "text/plain": [
              "tensor([[0., 0., 0., 0., 0.],\n",
              "        [0., 0., 0., 0., 0.],\n",
              "        [0., 0., 0., 0., 0.]])"
            ]
          },
          "metadata": {
            "tags": []
          },
          "execution_count": 11
        }
      ]
    },
    {
      "cell_type": "code",
      "metadata": {
        "id": "HQKKfvOor0i0",
        "colab_type": "code",
        "outputId": "3ce4ddf0-5e5e-41d4-e267-b6cabe2a8d3b",
        "colab": {
          "base_uri": "https://localhost:8080/",
          "height": 34
        }
      },
      "source": [
        "torch.ones(5)"
      ],
      "execution_count": 0,
      "outputs": [
        {
          "output_type": "execute_result",
          "data": {
            "text/plain": [
              "tensor([1., 1., 1., 1., 1.])"
            ]
          },
          "metadata": {
            "tags": []
          },
          "execution_count": 12
        }
      ]
    },
    {
      "cell_type": "code",
      "metadata": {
        "id": "9LwiPK9ir0i7",
        "colab_type": "code",
        "outputId": "1b27b9ec-a31d-4759-bedf-fba78c0ddfbf",
        "colab": {
          "base_uri": "https://localhost:8080/",
          "height": 68
        }
      },
      "source": [
        "torch.eye(3)"
      ],
      "execution_count": 0,
      "outputs": [
        {
          "output_type": "execute_result",
          "data": {
            "text/plain": [
              "tensor([[1., 0., 0.],\n",
              "        [0., 1., 0.],\n",
              "        [0., 0., 1.]])"
            ]
          },
          "metadata": {
            "tags": []
          },
          "execution_count": 13
        }
      ]
    },
    {
      "cell_type": "code",
      "metadata": {
        "id": "4b0mdJSGr0jD",
        "colab_type": "code",
        "outputId": "0f2b88b4-1a2b-44fc-e5d9-ab61ff41b9b1",
        "colab": {
          "base_uri": "https://localhost:8080/",
          "height": 68
        }
      },
      "source": [
        "torch.empty((3, 5)) #Random initialization"
      ],
      "execution_count": 0,
      "outputs": [
        {
          "output_type": "execute_result",
          "data": {
            "text/plain": [
              "tensor([[1.6351e-36, 0.0000e+00, 0.0000e+00, 0.0000e+00, 0.0000e+00],\n",
              "        [0.0000e+00, 0.0000e+00, 0.0000e+00, 2.8026e-45, 0.0000e+00],\n",
              "        [1.1210e-44, 0.0000e+00, 1.4013e-45, 0.0000e+00, 0.0000e+00]])"
            ]
          },
          "metadata": {
            "tags": []
          },
          "execution_count": 14
        }
      ]
    },
    {
      "cell_type": "code",
      "metadata": {
        "id": "4bWtmbF3r0jL",
        "colab_type": "code",
        "outputId": "2ff9748a-d072-4f5c-bac1-d56e7f886eef",
        "colab": {
          "base_uri": "https://localhost:8080/",
          "height": 102
        }
      },
      "source": [
        " torch.rand((5, 3))"
      ],
      "execution_count": 0,
      "outputs": [
        {
          "output_type": "execute_result",
          "data": {
            "text/plain": [
              "tensor([[0.0260, 0.5164, 0.6141],\n",
              "        [0.2025, 0.9716, 0.4112],\n",
              "        [0.1985, 0.9774, 0.3632],\n",
              "        [0.1553, 0.1438, 0.7462],\n",
              "        [0.8039, 0.9841, 0.9863]])"
            ]
          },
          "metadata": {
            "tags": []
          },
          "execution_count": 15
        }
      ]
    },
    {
      "cell_type": "code",
      "metadata": {
        "id": "WDMNlv_6r0jV",
        "colab_type": "code",
        "outputId": "eaa31e4f-1188-4579-cbe3-56be8172bed1",
        "colab": {
          "base_uri": "https://localhost:8080/",
          "height": 34
        }
      },
      "source": [
        "torch.arange(3, 9, 2)"
      ],
      "execution_count": 0,
      "outputs": [
        {
          "output_type": "execute_result",
          "data": {
            "text/plain": [
              "tensor([3, 5, 7])"
            ]
          },
          "metadata": {
            "tags": []
          },
          "execution_count": 16
        }
      ]
    },
    {
      "cell_type": "code",
      "metadata": {
        "id": "F38RWgQWr0je",
        "colab_type": "code",
        "outputId": "28108ec7-db1c-4ed2-df67-327c7d3f5a13",
        "colab": {
          "base_uri": "https://localhost:8080/",
          "height": 51
        }
      },
      "source": [
        "torch.linspace(0, 1, 11)"
      ],
      "execution_count": 0,
      "outputs": [
        {
          "output_type": "execute_result",
          "data": {
            "text/plain": [
              "tensor([0.0000, 0.1000, 0.2000, 0.3000, 0.4000, 0.5000, 0.6000, 0.7000, 0.8000,\n",
              "        0.9000, 1.0000])"
            ]
          },
          "metadata": {
            "tags": []
          },
          "execution_count": 21
        }
      ]
    },
    {
      "cell_type": "code",
      "metadata": {
        "id": "_1sj8D6Xr0jo",
        "colab_type": "code",
        "outputId": "c6746964-2765-4652-c2ff-15459678e28d",
        "colab": {
          "base_uri": "https://localhost:8080/",
          "height": 51
        }
      },
      "source": [
        "A = torch.ones((2,3))\n",
        "torch.zeros_like(A)"
      ],
      "execution_count": 0,
      "outputs": [
        {
          "output_type": "execute_result",
          "data": {
            "text/plain": [
              "tensor([[0., 0., 0.],\n",
              "        [0., 0., 0.]])"
            ]
          },
          "metadata": {
            "tags": []
          },
          "execution_count": 20
        }
      ]
    },
    {
      "cell_type": "markdown",
      "metadata": {
        "id": "F89oyf49r0jv",
        "colab_type": "text"
      },
      "source": [
        "This list is not exhaustive but gives you an idea of the diversity of way to create a Tensor"
      ]
    },
    {
      "cell_type": "markdown",
      "metadata": {
        "id": "OxeCkKRQr0jx",
        "colab_type": "text"
      },
      "source": [
        "<div style=\"background-color:lightblue;padding:1rem;border-radius: 0.015rem 0.015rem 0.03rem 0.03rem;\">\n",
        "<h3 style=\"display: inline; font-weight:bold\">Your turn!</h3>\n",
        "</div>"
      ]
    },
    {
      "cell_type": "markdown",
      "metadata": {
        "id": "orgAm03Cr0jz",
        "colab_type": "text"
      },
      "source": [
        "**_Create the tensor:_**\n",
        "\n",
        "$$ \\begin{bmatrix}\n",
        "5 & 7 & 9 & 11 & 13 & 15 & 17 & 19\n",
        "\\end{bmatrix}  $$"
      ]
    },
    {
      "cell_type": "code",
      "metadata": {
        "id": "1Ax0a2Sur0j2",
        "colab_type": "code",
        "outputId": "45be42f2-2377-407c-fdda-11e48f5a0d9c",
        "colab": {
          "base_uri": "https://localhost:8080/",
          "height": 34
        }
      },
      "source": [
        "cipote = torch.arange(5, 20, step = 2)\n",
        "cipote"
      ],
      "execution_count": 0,
      "outputs": [
        {
          "output_type": "execute_result",
          "data": {
            "text/plain": [
              "tensor([ 5,  7,  9, 11, 13, 15, 17, 19])"
            ]
          },
          "metadata": {
            "tags": []
          },
          "execution_count": 19
        }
      ]
    },
    {
      "cell_type": "markdown",
      "metadata": {
        "id": "nQEtGPh-r0j7",
        "colab_type": "text"
      },
      "source": [
        "<div style=\"background-color:lightblue;padding:1rem;border-radius: 0.03rem 0.03rem 0.015rem 0.015rem;\">\n",
        "<h3 style=\"display: inline\"></h3>\n",
        "</div>"
      ]
    },
    {
      "cell_type": "markdown",
      "metadata": {
        "id": "oFFUHciOr0j9",
        "colab_type": "text"
      },
      "source": [
        "---\n",
        "\n",
        "# Tensor Properties"
      ]
    },
    {
      "cell_type": "code",
      "metadata": {
        "id": "PkLL2QL-r0kA",
        "colab_type": "code",
        "outputId": "7367cdcb-acb0-468d-9b15-56e653a346df",
        "colab": {
          "base_uri": "https://localhost:8080/",
          "height": 272
        }
      },
      "source": [
        "x = torch.Tensor([[0,1,2], [3,4,5]]) #The default is float32\n",
        "\n",
        "print(\"x.shape: \\n%s\\n\" % (x.shape,))\n",
        "print(\"x.size(): \\n%s\\n\" % (x.size(),))\n",
        "print(\"x.size(1): \\n%s\\n\" % x.size(1))\n",
        "print(\"x.dim(): \\n%s\\n\" % x.dim())\n",
        "print(\"x.numel(): \\n%s\\n\" % x.numel())"
      ],
      "execution_count": 0,
      "outputs": [
        {
          "output_type": "stream",
          "text": [
            "x.shape: \n",
            "torch.Size([2, 3])\n",
            "\n",
            "x.size(): \n",
            "torch.Size([2, 3])\n",
            "\n",
            "x.size(1): \n",
            "3\n",
            "\n",
            "x.dim(): \n",
            "2\n",
            "\n",
            "x.numel(): \n",
            "6\n",
            "\n"
          ],
          "name": "stdout"
        }
      ]
    },
    {
      "cell_type": "code",
      "metadata": {
        "id": "LyWmSnGGr0kK",
        "colab_type": "code",
        "outputId": "9350b6e3-f2e5-48ad-c11e-b9610895f3f2",
        "colab": {
          "base_uri": "https://localhost:8080/",
          "height": 119
        }
      },
      "source": [
        "print(\"x.dtype: \\n%s\\n\" % x.dtype)\n",
        "print(\"x.device: \\n%s\\n\" % x.device)"
      ],
      "execution_count": 0,
      "outputs": [
        {
          "output_type": "stream",
          "text": [
            "x.dtype: \n",
            "torch.float32\n",
            "\n",
            "x.device: \n",
            "cpu\n",
            "\n"
          ],
          "name": "stdout"
        }
      ]
    },
    {
      "cell_type": "markdown",
      "metadata": {
        "id": "UlZnt7qNr0kR",
        "colab_type": "text"
      },
      "source": [
        "The `nonzero` function returns indices of the non zero elements."
      ]
    },
    {
      "cell_type": "code",
      "metadata": {
        "id": "-fjMgMrGr0kT",
        "colab_type": "code",
        "outputId": "e01c6235-ee41-47c9-d347-3dd87a1b32e6",
        "colab": {
          "base_uri": "https://localhost:8080/",
          "height": 136
        }
      },
      "source": [
        "x = torch.Tensor([[0,1,2], [3,4,5]])\n",
        "\n",
        "print(\"x.nonzero(): \\n%s\\n\" % x.nonzero())"
      ],
      "execution_count": 0,
      "outputs": [
        {
          "output_type": "stream",
          "text": [
            "x.nonzero(): \n",
            "tensor([[0, 1],\n",
            "        [0, 2],\n",
            "        [1, 0],\n",
            "        [1, 1],\n",
            "        [1, 2]])\n",
            "\n"
          ],
          "name": "stdout"
        }
      ]
    },
    {
      "cell_type": "markdown",
      "metadata": {
        "id": "zqFDbOt8r0kd",
        "colab_type": "text"
      },
      "source": [
        "---\n",
        "\n",
        "# Tensor Operations"
      ]
    },
    {
      "cell_type": "markdown",
      "metadata": {
        "id": "2mSOBXjZr0kg",
        "colab_type": "text"
      },
      "source": [
        "Unlike in NumPy, there are two ways to performs most operations in PyTorch:\n",
        " - using **`torch.op(tensor)`**\n",
        " - using **`tensor.op()`**"
      ]
    },
    {
      "cell_type": "code",
      "metadata": {
        "id": "cwrzBVr1r0kj",
        "colab_type": "code",
        "colab": {}
      },
      "source": [
        "X = torch.rand(3, 2)"
      ],
      "execution_count": 0,
      "outputs": []
    },
    {
      "cell_type": "code",
      "metadata": {
        "id": "XFOd83j6r0kq",
        "colab_type": "code",
        "outputId": "01b03330-ded7-4d55-c585-7e7cb1e91480",
        "colab": {
          "base_uri": "https://localhost:8080/",
          "height": 68
        }
      },
      "source": [
        "torch.exp(X)"
      ],
      "execution_count": 0,
      "outputs": [
        {
          "output_type": "execute_result",
          "data": {
            "text/plain": [
              "tensor([[1.2100, 1.7435],\n",
              "        [2.3398, 2.7044],\n",
              "        [1.2971, 1.9891]])"
            ]
          },
          "metadata": {
            "tags": []
          },
          "execution_count": 26
        }
      ]
    },
    {
      "cell_type": "code",
      "metadata": {
        "id": "YG-2xrAxr0kz",
        "colab_type": "code",
        "outputId": "6bbca0d5-c16a-40af-ce12-2f6855edbdfe",
        "colab": {
          "base_uri": "https://localhost:8080/",
          "height": 68
        }
      },
      "source": [
        "X.exp()"
      ],
      "execution_count": 0,
      "outputs": [
        {
          "output_type": "execute_result",
          "data": {
            "text/plain": [
              "tensor([[1.2100, 1.7435],\n",
              "        [2.3398, 2.7044],\n",
              "        [1.2971, 1.9891]])"
            ]
          },
          "metadata": {
            "tags": []
          },
          "execution_count": 27
        }
      ]
    },
    {
      "cell_type": "markdown",
      "metadata": {
        "id": "PvNN_PDlr0k6",
        "colab_type": "text"
      },
      "source": [
        "You can easily chain operators :"
      ]
    },
    {
      "cell_type": "code",
      "metadata": {
        "id": "z7bqCV4Xr0k8",
        "colab_type": "code",
        "outputId": "4243b31b-18da-4fb4-95d2-8c60db9355c2",
        "colab": {
          "base_uri": "https://localhost:8080/",
          "height": 34
        }
      },
      "source": [
        "X.sqrt().std()"
      ],
      "execution_count": 0,
      "outputs": [
        {
          "output_type": "execute_result",
          "data": {
            "text/plain": [
              "tensor(0.2246)"
            ]
          },
          "metadata": {
            "tags": []
          },
          "execution_count": 28
        }
      ]
    },
    {
      "cell_type": "code",
      "metadata": {
        "id": "iwQ-DRTtr0lB",
        "colab_type": "code",
        "outputId": "c7b5b7a7-c571-452e-8063-dbfde64af3e7",
        "colab": {
          "base_uri": "https://localhost:8080/",
          "height": 68
        }
      },
      "source": [
        "(X.exp() + 2).sqrt() - 2 * X.log().sigmoid()  # be creative :-)"
      ],
      "execution_count": 0,
      "outputs": [
        {
          "output_type": "execute_result",
          "data": {
            "text/plain": [
              "tensor([[1.4714, 1.2202],\n",
              "        [1.1643, 1.1715],\n",
              "        [1.4029, 1.1823]])"
            ]
          },
          "metadata": {
            "tags": []
          },
          "execution_count": 29
        }
      ]
    },
    {
      "cell_type": "markdown",
      "metadata": {
        "id": "U9KaOdQ0r0lF",
        "colab_type": "text"
      },
      "source": [
        "Many more functions are available: sin, cos, tanh, bmm, cumsum, dot, etc."
      ]
    },
    {
      "cell_type": "markdown",
      "metadata": {
        "id": "SMTAfVaIr0lH",
        "colab_type": "text"
      },
      "source": [
        "<div style=\"background-color:lightblue;padding:1rem;border-radius: 0.015rem 0.015rem 0.03rem 0.03rem;\">\n",
        "<h3 style=\"display: inline; font-weight:bold\">Your turn!</h3>\n",
        "</div>"
      ]
    },
    {
      "cell_type": "markdown",
      "metadata": {
        "id": "tTK8I7c8r0lI",
        "colab_type": "text"
      },
      "source": [
        "Compute the norms of the row-vectors in matrix **X** without using `torch.norm()`.\n",
        "\n",
        "Remember: $$||\\vec{v}||_2 = \\sqrt{x_1^2 + x_2^2 + \\dots + x_n^2}$$\n",
        "\n",
        "Hint: `X**2` computes the element-wise square."
      ]
    },
    {
      "cell_type": "code",
      "metadata": {
        "id": "onQWiFRCr0lK",
        "colab_type": "code",
        "outputId": "fbf59303-d11e-4400-f2e6-d0a04d7a755e",
        "colab": {
          "base_uri": "https://localhost:8080/",
          "height": 34
        }
      },
      "source": [
        "X = torch.eye(4) + torch.arange(4).repeat(4, 1).float()\n",
        "\n",
        "sol = (X**2).sum().sqrt()\n",
        "sol\n",
        "\n",
        "# SOLUTION: tensor(8.4853)"
      ],
      "execution_count": 0,
      "outputs": [
        {
          "output_type": "execute_result",
          "data": {
            "text/plain": [
              "tensor(8.4853)"
            ]
          },
          "metadata": {
            "tags": []
          },
          "execution_count": 31
        }
      ]
    },
    {
      "cell_type": "markdown",
      "metadata": {
        "id": "jiK4Fk-Cr0lQ",
        "colab_type": "text"
      },
      "source": [
        "<div style=\"background-color:lightblue;padding:1rem;border-radius: 0.03rem 0.03rem 0.015rem 0.015rem;\">\n",
        "<h3 style=\"display: inline\"></h3>\n",
        "</div>"
      ]
    },
    {
      "cell_type": "markdown",
      "metadata": {
        "id": "CS4mnA7Br0lR",
        "colab_type": "text"
      },
      "source": [
        "## Reductions"
      ]
    },
    {
      "cell_type": "code",
      "metadata": {
        "id": "5ZDTfnUYr0lT",
        "colab_type": "code",
        "outputId": "cf4f951c-1625-4fed-bfd4-76ae82397770",
        "colab": {
          "base_uri": "https://localhost:8080/",
          "height": 68
        }
      },
      "source": [
        "X = torch.rand(3, 2)\n",
        "X"
      ],
      "execution_count": 0,
      "outputs": [
        {
          "output_type": "execute_result",
          "data": {
            "text/plain": [
              "tensor([[0.7005, 0.0919],\n",
              "        [0.4432, 0.5348],\n",
              "        [0.0876, 0.3258]])"
            ]
          },
          "metadata": {
            "tags": []
          },
          "execution_count": 32
        }
      ]
    },
    {
      "cell_type": "code",
      "metadata": {
        "id": "bGMyE79er0lZ",
        "colab_type": "code",
        "outputId": "29b56712-eaf3-4773-e47b-b45000d94db8",
        "colab": {
          "base_uri": "https://localhost:8080/",
          "height": 34
        }
      },
      "source": [
        "X.sum()"
      ],
      "execution_count": 0,
      "outputs": [
        {
          "output_type": "execute_result",
          "data": {
            "text/plain": [
              "tensor(2.1838)"
            ]
          },
          "metadata": {
            "tags": []
          },
          "execution_count": 33
        }
      ]
    },
    {
      "cell_type": "code",
      "metadata": {
        "id": "PXijDNCKr0lf",
        "colab_type": "code",
        "outputId": "c444dad9-4004-46b7-da07-f0c56f208b74",
        "colab": {
          "base_uri": "https://localhost:8080/",
          "height": 34
        }
      },
      "source": [
        "X.max()"
      ],
      "execution_count": 0,
      "outputs": [
        {
          "output_type": "execute_result",
          "data": {
            "text/plain": [
              "tensor(0.7005)"
            ]
          },
          "metadata": {
            "tags": []
          },
          "execution_count": 34
        }
      ]
    },
    {
      "cell_type": "code",
      "metadata": {
        "id": "oA3JrBi3r0lk",
        "colab_type": "code",
        "outputId": "1e0d23bc-2c64-4e97-8bad-7447cf7561de",
        "colab": {
          "base_uri": "https://localhost:8080/",
          "height": 34
        }
      },
      "source": [
        "X.mean(dim=1)"
      ],
      "execution_count": 0,
      "outputs": [
        {
          "output_type": "execute_result",
          "data": {
            "text/plain": [
              "tensor([0.3962, 0.4890, 0.2067])"
            ]
          },
          "metadata": {
            "tags": []
          },
          "execution_count": 38
        }
      ]
    },
    {
      "cell_type": "code",
      "metadata": {
        "id": "WRHsDQMDr0lp",
        "colab_type": "code",
        "outputId": "4ae1c9f9-0a73-48e7-dd65-c548778ee583",
        "colab": {
          "base_uri": "https://localhost:8080/",
          "height": 34
        }
      },
      "source": [
        "X.norm(p=1.3)"
      ],
      "execution_count": 0,
      "outputs": [
        {
          "output_type": "execute_result",
          "data": {
            "text/plain": [
              "tensor(1.5311)"
            ]
          },
          "metadata": {
            "tags": []
          },
          "execution_count": 41
        }
      ]
    },
    {
      "cell_type": "markdown",
      "metadata": {
        "id": "C6CUE2U1r0ly",
        "colab_type": "text"
      },
      "source": [
        "<div style=\"background-color:lightblue;padding:1rem;border-radius: 0.015rem 0.015rem 0.03rem 0.03rem;\">\n",
        "<h3 style=\"display: inline; font-weight:bold\">Your turn!</h3>\n",
        "</div>"
      ]
    },
    {
      "cell_type": "markdown",
      "metadata": {
        "id": "ZN1iYepYr0l0",
        "colab_type": "text"
      },
      "source": [
        "For $X_{i,j}$ , compute $Y$ such that $Y_j = \\log \\big[ \\sum_j \\exp (X_{i,j}) \\big]$."
      ]
    },
    {
      "cell_type": "code",
      "metadata": {
        "id": "8YznwZA-r0l4",
        "colab_type": "code",
        "outputId": "8eaffeb2-5f25-480b-8522-5614fb7f2e87",
        "colab": {
          "base_uri": "https://localhost:8080/",
          "height": 34
        }
      },
      "source": [
        "X = torch.eye(4) + torch.arange(4).repeat(4, 1).float()\n",
        "X\n",
        "\n",
        "sol = X.exp().sum(dim = 1).log() # Order of operations is RPN!, not forward notation like in the CASIO\n",
        "sol\n",
        "# YOUR TURN\n",
        "\n",
        "# SOLUTION: tensor([3.4938, 3.5797, 3.7817, 4.1852])"
      ],
      "execution_count": 0,
      "outputs": [
        {
          "output_type": "execute_result",
          "data": {
            "text/plain": [
              "tensor([3.4938, 3.5797, 3.7817, 4.1852])"
            ]
          },
          "metadata": {
            "tags": []
          },
          "execution_count": 44
        }
      ]
    },
    {
      "cell_type": "markdown",
      "metadata": {
        "id": "JVdZMxq5r0mH",
        "colab_type": "text"
      },
      "source": [
        "<div style=\"background-color:lightblue;padding:1rem;border-radius: 0.03rem 0.03rem 0.015rem 0.015rem;\">\n",
        "<h3 style=\"display: inline\"></h3>\n",
        "</div>"
      ]
    },
    {
      "cell_type": "markdown",
      "metadata": {
        "id": "6KAw8hH6r0mM",
        "colab_type": "text"
      },
      "source": [
        "## Linear Algebra"
      ]
    },
    {
      "cell_type": "code",
      "metadata": {
        "id": "Hs5KJuGpr0mO",
        "colab_type": "code",
        "colab": {}
      },
      "source": [
        "Y = torch.rand(2, 3)"
      ],
      "execution_count": 0,
      "outputs": []
    },
    {
      "cell_type": "code",
      "metadata": {
        "id": "x8-7Sp9Or0mW",
        "colab_type": "code",
        "outputId": "c3d24ff1-9068-435e-aef7-6deec1bd3aff",
        "colab": {
          "base_uri": "https://localhost:8080/",
          "height": 68
        }
      },
      "source": [
        "# Matrix multiplication\n",
        "Y.t() @ Y"
      ],
      "execution_count": 0,
      "outputs": [
        {
          "output_type": "execute_result",
          "data": {
            "text/plain": [
              "tensor([[0.3159, 0.6856, 0.4168],\n",
              "        [0.6856, 1.4898, 0.9309],\n",
              "        [0.4168, 0.9309, 1.0176]])"
            ]
          },
          "metadata": {
            "tags": []
          },
          "execution_count": 46
        }
      ]
    },
    {
      "cell_type": "code",
      "metadata": {
        "id": "K6OHqXjar0md",
        "colab_type": "code",
        "outputId": "07be63cc-1e95-4207-956a-157c968bd6ef",
        "colab": {
          "base_uri": "https://localhost:8080/",
          "height": 68
        }
      },
      "source": [
        "Y.t().matmul(Y) #Equivalent to the previous one"
      ],
      "execution_count": 0,
      "outputs": [
        {
          "output_type": "execute_result",
          "data": {
            "text/plain": [
              "tensor([[0.3159, 0.6856, 0.4168],\n",
              "        [0.6856, 1.4898, 0.9309],\n",
              "        [0.4168, 0.9309, 1.0176]])"
            ]
          },
          "metadata": {
            "tags": []
          },
          "execution_count": 47
        }
      ]
    },
    {
      "cell_type": "code",
      "metadata": {
        "id": "DcZi_jRLr0mi",
        "colab_type": "code",
        "colab": {}
      },
      "source": [
        "# CAUTION: Operator '*' does element-wise multiplication, just like in numpy!\n",
        "# Y.t() * Y  # error, dimensions do not match for element-wise multiplication"
      ],
      "execution_count": 0,
      "outputs": []
    },
    {
      "cell_type": "code",
      "metadata": {
        "id": "a6atO5UBr0mn",
        "colab_type": "code",
        "outputId": "ede7041c-97c4-4f97-9906-10b9ea063e36",
        "colab": {
          "base_uri": "https://localhost:8080/",
          "height": 68
        }
      },
      "source": [
        "torch.inverse(Y.t() @ Y)"
      ],
      "execution_count": 0,
      "outputs": [
        {
          "output_type": "execute_result",
          "data": {
            "text/plain": [
              "tensor([[-2.9325e+07,  1.3985e+07, -7.8361e+05],\n",
              "        [ 1.3985e+07, -6.6698e+06,  3.7371e+05],\n",
              "        [-7.8361e+05,  3.7371e+05, -2.0937e+04]])"
            ]
          },
          "metadata": {
            "tags": []
          },
          "execution_count": 48
        }
      ]
    },
    {
      "cell_type": "code",
      "metadata": {
        "id": "_PZvEZrIr0mu",
        "colab_type": "code",
        "colab": {}
      },
      "source": [
        "Y = torch.rand(3, 3)"
      ],
      "execution_count": 0,
      "outputs": []
    },
    {
      "cell_type": "code",
      "metadata": {
        "id": "temqez32r0my",
        "colab_type": "code",
        "outputId": "39950797-b88d-477f-b9a3-ed6444982fc7",
        "colab": {
          "base_uri": "https://localhost:8080/",
          "height": 34
        }
      },
      "source": [
        "Y.det()"
      ],
      "execution_count": 0,
      "outputs": [
        {
          "output_type": "execute_result",
          "data": {
            "text/plain": [
              "tensor(-0.0282)"
            ]
          },
          "metadata": {
            "tags": []
          },
          "execution_count": 50
        }
      ]
    },
    {
      "cell_type": "code",
      "metadata": {
        "id": "wyxUyMRor0m3",
        "colab_type": "code",
        "outputId": "41add38a-477e-4795-8522-bfdb9ea00c8a",
        "colab": {
          "base_uri": "https://localhost:8080/",
          "height": 68
        }
      },
      "source": [
        "Y.eig()"
      ],
      "execution_count": 0,
      "outputs": [
        {
          "output_type": "execute_result",
          "data": {
            "text/plain": [
              "torch.return_types.eig(eigenvalues=tensor([[-0.0921,  0.0000],\n",
              "        [ 0.1906,  0.0000],\n",
              "        [ 1.6061,  0.0000]]), eigenvectors=tensor([]))"
            ]
          },
          "metadata": {
            "tags": []
          },
          "execution_count": 51
        }
      ]
    },
    {
      "cell_type": "markdown",
      "metadata": {
        "id": "75u-CgcNr0m-",
        "colab_type": "text"
      },
      "source": [
        "## In-place operators (mutations)"
      ]
    },
    {
      "cell_type": "markdown",
      "metadata": {
        "id": "80RTAt__r0nA",
        "colab_type": "text"
      },
      "source": [
        "Functions that mutate the object end with an underscore, e.g. *add_*, *div_*, etc."
      ]
    },
    {
      "cell_type": "code",
      "metadata": {
        "id": "8uuK0Phtr0nC",
        "colab_type": "code",
        "outputId": "2993d915-9706-4dd4-aea6-73653397b5ac",
        "colab": {
          "base_uri": "https://localhost:8080/",
          "height": 68
        }
      },
      "source": [
        "A = torch.eye(3)\n",
        "A"
      ],
      "execution_count": 0,
      "outputs": [
        {
          "output_type": "execute_result",
          "data": {
            "text/plain": [
              "tensor([[1., 0., 0.],\n",
              "        [0., 1., 0.],\n",
              "        [0., 0., 1.]])"
            ]
          },
          "metadata": {
            "tags": []
          },
          "execution_count": 52
        }
      ]
    },
    {
      "cell_type": "code",
      "metadata": {
        "id": "24XZRRwHr0nI",
        "colab_type": "code",
        "outputId": "4f165417-1b7c-44d1-933f-2dfdc61b7de0",
        "colab": {
          "base_uri": "https://localhost:8080/",
          "height": 68
        }
      },
      "source": [
        "A.add(5)"
      ],
      "execution_count": 0,
      "outputs": [
        {
          "output_type": "execute_result",
          "data": {
            "text/plain": [
              "tensor([[6., 5., 5.],\n",
              "        [5., 6., 5.],\n",
              "        [5., 5., 6.]])"
            ]
          },
          "metadata": {
            "tags": []
          },
          "execution_count": 53
        }
      ]
    },
    {
      "cell_type": "code",
      "metadata": {
        "id": "yPcwoX3er0nL",
        "colab_type": "code",
        "outputId": "d84dbff0-81cd-43ae-b8aa-6dd41ee7dd10",
        "colab": {
          "base_uri": "https://localhost:8080/",
          "height": 68
        }
      },
      "source": [
        "A # VIEW"
      ],
      "execution_count": 0,
      "outputs": [
        {
          "output_type": "execute_result",
          "data": {
            "text/plain": [
              "tensor([[1., 0., 0.],\n",
              "        [0., 1., 0.],\n",
              "        [0., 0., 1.]])"
            ]
          },
          "metadata": {
            "tags": []
          },
          "execution_count": 54
        }
      ]
    },
    {
      "cell_type": "code",
      "metadata": {
        "id": "rnFrSrh5r0nN",
        "colab_type": "code",
        "outputId": "08352f01-2876-4e17-c490-b98f1e424633",
        "colab": {
          "base_uri": "https://localhost:8080/",
          "height": 68
        }
      },
      "source": [
        "A.add_(5) #Inplace!"
      ],
      "execution_count": 0,
      "outputs": [
        {
          "output_type": "execute_result",
          "data": {
            "text/plain": [
              "tensor([[6., 5., 5.],\n",
              "        [5., 6., 5.],\n",
              "        [5., 5., 6.]])"
            ]
          },
          "metadata": {
            "tags": []
          },
          "execution_count": 55
        }
      ]
    },
    {
      "cell_type": "code",
      "metadata": {
        "id": "KOJOp429r0nQ",
        "colab_type": "code",
        "outputId": "3959f903-5052-4b54-fba1-276dfc69700e",
        "colab": {
          "base_uri": "https://localhost:8080/",
          "height": 68
        }
      },
      "source": [
        "A"
      ],
      "execution_count": 0,
      "outputs": [
        {
          "output_type": "execute_result",
          "data": {
            "text/plain": [
              "tensor([[6., 5., 5.],\n",
              "        [5., 6., 5.],\n",
              "        [5., 5., 6.]])"
            ]
          },
          "metadata": {
            "tags": []
          },
          "execution_count": 56
        }
      ]
    },
    {
      "cell_type": "code",
      "metadata": {
        "id": "9_GYqxKcr0nT",
        "colab_type": "code",
        "outputId": "bd21e864-304b-45cc-8eae-fca0b4e67331",
        "colab": {
          "base_uri": "https://localhost:8080/",
          "height": 68
        }
      },
      "source": [
        "A.div_(3)"
      ],
      "execution_count": 0,
      "outputs": [
        {
          "output_type": "execute_result",
          "data": {
            "text/plain": [
              "tensor([[2.0000, 1.6667, 1.6667],\n",
              "        [1.6667, 2.0000, 1.6667],\n",
              "        [1.6667, 1.6667, 2.0000]])"
            ]
          },
          "metadata": {
            "tags": []
          },
          "execution_count": 57
        }
      ]
    },
    {
      "cell_type": "code",
      "metadata": {
        "id": "IGPoZbfxr0nX",
        "colab_type": "code",
        "outputId": "5cdad867-4403-424a-9167-c2c0c847ca55",
        "colab": {
          "base_uri": "https://localhost:8080/",
          "height": 68
        }
      },
      "source": [
        "A"
      ],
      "execution_count": 0,
      "outputs": [
        {
          "output_type": "execute_result",
          "data": {
            "text/plain": [
              "tensor([[2.0000, 1.6667, 1.6667],\n",
              "        [1.6667, 2.0000, 1.6667],\n",
              "        [1.6667, 1.6667, 2.0000]])"
            ]
          },
          "metadata": {
            "tags": []
          },
          "execution_count": 58
        }
      ]
    },
    {
      "cell_type": "code",
      "metadata": {
        "id": "DTDOhWE_r0nc",
        "colab_type": "code",
        "outputId": "c524e11f-8831-4c65-f52c-c872b63effaa",
        "colab": {
          "base_uri": "https://localhost:8080/",
          "height": 68
        }
      },
      "source": [
        "A.uniform_()  # fills the tensor with random uniform numbers in [0, 1]"
      ],
      "execution_count": 0,
      "outputs": [
        {
          "output_type": "execute_result",
          "data": {
            "text/plain": [
              "tensor([[0.3696, 0.6046, 0.4665],\n",
              "        [0.6424, 0.5544, 0.7214],\n",
              "        [0.8453, 0.5470, 0.8729]])"
            ]
          },
          "metadata": {
            "tags": []
          },
          "execution_count": 59
        }
      ]
    },
    {
      "cell_type": "code",
      "metadata": {
        "id": "Tb0XbEUtr0ni",
        "colab_type": "code",
        "outputId": "c91d763c-6bca-405d-ff43-09ed5991f450",
        "colab": {
          "base_uri": "https://localhost:8080/",
          "height": 68
        }
      },
      "source": [
        "A"
      ],
      "execution_count": 0,
      "outputs": [
        {
          "output_type": "execute_result",
          "data": {
            "text/plain": [
              "tensor([[0.3696, 0.6046, 0.4665],\n",
              "        [0.6424, 0.5544, 0.7214],\n",
              "        [0.8453, 0.5470, 0.8729]])"
            ]
          },
          "metadata": {
            "tags": []
          },
          "execution_count": 60
        }
      ]
    },
    {
      "cell_type": "markdown",
      "metadata": {
        "id": "3oR3uZnIr0nn",
        "colab_type": "text"
      },
      "source": [
        "#### Also note the difference:\n",
        "```python\n",
        "A = A + 1  # After this operation, A is a new variable and memory has been copied\n",
        "A += 1     # After this operation, A stayed the same variable and memory has been changed in place\n",
        "```\n",
        "\n",
        "Compare the outputs:"
      ]
    },
    {
      "cell_type": "code",
      "metadata": {
        "id": "wH9SRPhUr0no",
        "colab_type": "code",
        "outputId": "e61782d0-5f93-4ef5-c6bb-1d7a969ac709",
        "colab": {
          "base_uri": "https://localhost:8080/",
          "height": 34
        }
      },
      "source": [
        "A = torch.ones(1)\n",
        "\n",
        "A_before = A\n",
        "A = A + 1\n",
        "\n",
        "print(A, A_before)"
      ],
      "execution_count": 0,
      "outputs": [
        {
          "output_type": "stream",
          "text": [
            "tensor([2.]) tensor([1.])\n"
          ],
          "name": "stdout"
        }
      ]
    },
    {
      "cell_type": "code",
      "metadata": {
        "id": "kxWReP91r0nr",
        "colab_type": "code",
        "outputId": "bee1610e-9083-48f8-f0fd-ff0386cf3d0a",
        "colab": {
          "base_uri": "https://localhost:8080/",
          "height": 34
        }
      },
      "source": [
        "A = torch.ones(1)\n",
        "\n",
        "A_before = A\n",
        "A += 1\n",
        "\n",
        "print(A, A_before)"
      ],
      "execution_count": 0,
      "outputs": [
        {
          "output_type": "stream",
          "text": [
            "tensor([2.]) tensor([2.])\n"
          ],
          "name": "stdout"
        }
      ]
    },
    {
      "cell_type": "markdown",
      "metadata": {
        "id": "AtStObkzr0nv",
        "colab_type": "text"
      },
      "source": [
        "## Indexing"
      ]
    },
    {
      "cell_type": "markdown",
      "metadata": {
        "id": "cLBQPFour0nw",
        "colab_type": "text"
      },
      "source": [
        "Again, it works just like in NumPy."
      ]
    },
    {
      "cell_type": "code",
      "metadata": {
        "id": "J4E7o1MNr0nx",
        "colab_type": "code",
        "outputId": "f1e8ba47-61fa-406c-c1f7-2f0ae2e2a6d2",
        "colab": {
          "base_uri": "https://localhost:8080/",
          "height": 68
        }
      },
      "source": [
        "A = torch.randint(100, (3, 3))\n",
        "A"
      ],
      "execution_count": 0,
      "outputs": [
        {
          "output_type": "execute_result",
          "data": {
            "text/plain": [
              "tensor([[36, 97, 79],\n",
              "        [61, 91,  6],\n",
              "        [ 3, 88, 18]])"
            ]
          },
          "metadata": {
            "tags": []
          },
          "execution_count": 63
        }
      ]
    },
    {
      "cell_type": "code",
      "metadata": {
        "id": "D6TN1u7hr0nz",
        "colab_type": "code",
        "outputId": "4a83f84d-472b-4a39-fb45-d4ec0c1fac41",
        "colab": {
          "base_uri": "https://localhost:8080/",
          "height": 34
        }
      },
      "source": [
        "A[0, 0]"
      ],
      "execution_count": 0,
      "outputs": [
        {
          "output_type": "execute_result",
          "data": {
            "text/plain": [
              "tensor(36)"
            ]
          },
          "metadata": {
            "tags": []
          },
          "execution_count": 64
        }
      ]
    },
    {
      "cell_type": "code",
      "metadata": {
        "id": "gpU4a0a1r0n2",
        "colab_type": "code",
        "outputId": "03bbabf6-1f65-4350-ce8c-32e64528f661",
        "colab": {
          "base_uri": "https://localhost:8080/",
          "height": 34
        }
      },
      "source": [
        "A[2, 1] # 0 indexing!"
      ],
      "execution_count": 0,
      "outputs": [
        {
          "output_type": "execute_result",
          "data": {
            "text/plain": [
              "tensor(88)"
            ]
          },
          "metadata": {
            "tags": []
          },
          "execution_count": 65
        }
      ]
    },
    {
      "cell_type": "code",
      "metadata": {
        "id": "y5E-e61Yr0n7",
        "colab_type": "code",
        "outputId": "e5b1db80-0b4f-42a4-855e-0ece235d81b5",
        "colab": {
          "base_uri": "https://localhost:8080/",
          "height": 34
        }
      },
      "source": [
        "A[1]"
      ],
      "execution_count": 0,
      "outputs": [
        {
          "output_type": "execute_result",
          "data": {
            "text/plain": [
              "tensor([61, 91,  6])"
            ]
          },
          "metadata": {
            "tags": []
          },
          "execution_count": 66
        }
      ]
    },
    {
      "cell_type": "code",
      "metadata": {
        "id": "J70TYidRr0oD",
        "colab_type": "code",
        "outputId": "262e262a-2ba8-42ce-b11b-69b5a3bc60a2",
        "colab": {
          "base_uri": "https://localhost:8080/",
          "height": 34
        }
      },
      "source": [
        "A[:, 1]"
      ],
      "execution_count": 0,
      "outputs": [
        {
          "output_type": "execute_result",
          "data": {
            "text/plain": [
              "tensor([97, 91, 88])"
            ]
          },
          "metadata": {
            "tags": []
          },
          "execution_count": 67
        }
      ]
    },
    {
      "cell_type": "code",
      "metadata": {
        "id": "daQmK43lr0oG",
        "colab_type": "code",
        "outputId": "1e2058bd-e959-406d-bf8f-d7fea41bb11e",
        "colab": {
          "base_uri": "https://localhost:8080/",
          "height": 68
        }
      },
      "source": [
        "A[:, 1:2], A[:, 1:2].shape"
      ],
      "execution_count": 0,
      "outputs": [
        {
          "output_type": "execute_result",
          "data": {
            "text/plain": [
              "(tensor([[97],\n",
              "         [91],\n",
              "         [88]]), torch.Size([3, 1]))"
            ]
          },
          "metadata": {
            "tags": []
          },
          "execution_count": 68
        }
      ]
    },
    {
      "cell_type": "code",
      "metadata": {
        "id": "KantkXwrr0oL",
        "colab_type": "code",
        "outputId": "1943191e-4a48-40ce-afbd-531d1e9caeb0",
        "colab": {
          "base_uri": "https://localhost:8080/",
          "height": 51
        }
      },
      "source": [
        "A[1:, :2]"
      ],
      "execution_count": 0,
      "outputs": [
        {
          "output_type": "execute_result",
          "data": {
            "text/plain": [
              "tensor([[61, 91],\n",
              "        [ 3, 88]])"
            ]
          },
          "metadata": {
            "tags": []
          },
          "execution_count": 69
        }
      ]
    },
    {
      "cell_type": "markdown",
      "metadata": {
        "id": "xArm8unMr0oO",
        "colab_type": "text"
      },
      "source": [
        "_Note: You can use `...` to mark any number of dimension_"
      ]
    },
    {
      "cell_type": "markdown",
      "metadata": {
        "id": "dGXe-2dCr0oO",
        "colab_type": "text"
      },
      "source": [
        "<div style=\"background-color:lightblue;padding:1rem;border-radius: 0.015rem 0.015rem 0.03rem 0.03rem;\">\n",
        "<h3 style=\"display: inline; font-weight:bold\">Your turn!</h3>\n",
        "</div>"
      ]
    },
    {
      "cell_type": "code",
      "metadata": {
        "id": "PZfqE9KYr0oR",
        "colab_type": "code",
        "outputId": "1b6605db-36fe-4ac2-9b96-6383fb19e00a",
        "colab": {
          "base_uri": "https://localhost:8080/",
          "height": 102
        }
      },
      "source": [
        "X = torch.arange(40).view(5,8)\n",
        "X"
      ],
      "execution_count": 0,
      "outputs": [
        {
          "output_type": "execute_result",
          "data": {
            "text/plain": [
              "tensor([[ 0,  1,  2,  3,  4,  5,  6,  7],\n",
              "        [ 8,  9, 10, 11, 12, 13, 14, 15],\n",
              "        [16, 17, 18, 19, 20, 21, 22, 23],\n",
              "        [24, 25, 26, 27, 28, 29, 30, 31],\n",
              "        [32, 33, 34, 35, 36, 37, 38, 39]])"
            ]
          },
          "metadata": {
            "tags": []
          },
          "execution_count": 70
        }
      ]
    },
    {
      "cell_type": "markdown",
      "metadata": {
        "id": "JuhfLDJFr0oW",
        "colab_type": "text"
      },
      "source": [
        "**_Extract this vector from the tensor X:_**\n",
        "\n",
        "$ \\begin{bmatrix}\n",
        "17 & 19 & 21 & 23 \\\\\n",
        "\\end{bmatrix}  $\n"
      ]
    },
    {
      "cell_type": "code",
      "metadata": {
        "id": "fg1p4hcGr0oX",
        "colab_type": "code",
        "outputId": "05a683c3-6d9b-4273-d5e0-a3eac7eb7637",
        "colab": {
          "base_uri": "https://localhost:8080/",
          "height": 34
        }
      },
      "source": [
        "# From the 2nd line, take one out of two elements starting from the second one\n",
        "c = X[2, 1::2] # I never use this, but ::n is the step size\n",
        "c"
      ],
      "execution_count": 0,
      "outputs": [
        {
          "output_type": "execute_result",
          "data": {
            "text/plain": [
              "tensor([17, 19, 21, 23])"
            ]
          },
          "metadata": {
            "tags": []
          },
          "execution_count": 71
        }
      ]
    },
    {
      "cell_type": "markdown",
      "metadata": {
        "id": "tb948_MDr0oa",
        "colab_type": "text"
      },
      "source": [
        "<div style=\"background-color:lightblue;padding:1rem;border-radius: 0.015rem 0.015rem 0.03rem 0.03rem;\">\n",
        "<h3 style=\"display: inline; font-weight:bold\"></h3>\n",
        "</div>"
      ]
    },
    {
      "cell_type": "markdown",
      "metadata": {
        "id": "JppqaGT2r0ob",
        "colab_type": "text"
      },
      "source": [
        "## Reshaping & Expanding"
      ]
    },
    {
      "cell_type": "markdown",
      "metadata": {
        "id": "n2YWCsTcr0oc",
        "colab_type": "text"
      },
      "source": [
        "**`view`** is the equivalent of `reshape` in NumPy, but `view` does not allocate new memory: the output tensor shares the same data!\n",
        "\n",
        "The number of arguments of `view` will be the number of dimensions of the output tensor."
      ]
    },
    {
      "cell_type": "code",
      "metadata": {
        "id": "mj1vqoYKr0od",
        "colab_type": "code",
        "outputId": "b878d82e-d708-4e80-d42e-72da43174c84",
        "colab": {
          "base_uri": "https://localhost:8080/",
          "height": 34
        }
      },
      "source": [
        "X = torch.tensor([1, 2, 3, 4, 5, 6])\n",
        "X"
      ],
      "execution_count": 0,
      "outputs": [
        {
          "output_type": "execute_result",
          "data": {
            "text/plain": [
              "tensor([1, 2, 3, 4, 5, 6])"
            ]
          },
          "metadata": {
            "tags": []
          },
          "execution_count": 72
        }
      ]
    },
    {
      "cell_type": "code",
      "metadata": {
        "id": "QJxHPZR6r0oh",
        "colab_type": "code",
        "outputId": "387e28ab-68cb-4442-84ff-29f904a70995",
        "colab": {
          "base_uri": "https://localhost:8080/",
          "height": 51
        }
      },
      "source": [
        "Y = X.view(2, 3)  # view tensor X on 2 dimensions, with a size 2 on dimension 1 and a size 3 on dimension 2\n",
        "Y"
      ],
      "execution_count": 0,
      "outputs": [
        {
          "output_type": "execute_result",
          "data": {
            "text/plain": [
              "tensor([[1, 2, 3],\n",
              "        [4, 5, 6]])"
            ]
          },
          "metadata": {
            "tags": []
          },
          "execution_count": 73
        }
      ]
    },
    {
      "cell_type": "code",
      "metadata": {
        "id": "eX7h-mKjr0op",
        "colab_type": "code",
        "outputId": "ed08d21f-57bb-457a-eed3-d578133462ec",
        "colab": {
          "base_uri": "https://localhost:8080/",
          "height": 34
        }
      },
      "source": [
        "Y = X.view(-1)  # -1 tells PyTorch to infer the number of elements along that dimension\n",
        "Y, Y.shape"
      ],
      "execution_count": 0,
      "outputs": [
        {
          "output_type": "execute_result",
          "data": {
            "text/plain": [
              "(tensor([1, 2, 3, 4, 5, 6]), torch.Size([6]))"
            ]
          },
          "metadata": {
            "tags": []
          },
          "execution_count": 74
        }
      ]
    },
    {
      "cell_type": "code",
      "metadata": {
        "id": "ndICeGhNr0ow",
        "colab_type": "code",
        "outputId": "119ce662-5357-49c4-99d0-6708282f8151",
        "colab": {
          "base_uri": "https://localhost:8080/",
          "height": 68
        }
      },
      "source": [
        "Y = X.view(-1, 2)\n",
        "Y, Y.shape"
      ],
      "execution_count": 0,
      "outputs": [
        {
          "output_type": "execute_result",
          "data": {
            "text/plain": [
              "(tensor([[1, 2],\n",
              "         [3, 4],\n",
              "         [5, 6]]), torch.Size([3, 2]))"
            ]
          },
          "metadata": {
            "tags": []
          },
          "execution_count": 75
        }
      ]
    },
    {
      "cell_type": "markdown",
      "metadata": {
        "id": "XdzyEOFir0o4",
        "colab_type": "text"
      },
      "source": [
        "**`expand`** creates a new view of the tensor with dimensions of size 1 expanded to a larger size. This does not allocate new memory either !"
      ]
    },
    {
      "cell_type": "code",
      "metadata": {
        "id": "L6Zo8TBOr0o6",
        "colab_type": "code",
        "outputId": "83f44869-e0ec-4b98-c325-24924b7e08dd",
        "colab": {
          "base_uri": "https://localhost:8080/",
          "height": 34
        }
      },
      "source": [
        "Y = torch.ones(5)\n",
        "Y, Y.shape"
      ],
      "execution_count": 0,
      "outputs": [
        {
          "output_type": "execute_result",
          "data": {
            "text/plain": [
              "(tensor([1., 1., 1., 1., 1.]), torch.Size([5]))"
            ]
          },
          "metadata": {
            "tags": []
          },
          "execution_count": 76
        }
      ]
    },
    {
      "cell_type": "code",
      "metadata": {
        "id": "E8zANfDpr0o9",
        "colab_type": "code",
        "outputId": "44ca0dbe-bd93-405a-ef5f-e50494890641",
        "colab": {
          "base_uri": "https://localhost:8080/",
          "height": 102
        }
      },
      "source": [
        "Y = Y.view(-1, 1)\n",
        "Y, Y.shape"
      ],
      "execution_count": 0,
      "outputs": [
        {
          "output_type": "execute_result",
          "data": {
            "text/plain": [
              "(tensor([[1.],\n",
              "         [1.],\n",
              "         [1.],\n",
              "         [1.],\n",
              "         [1.]]), torch.Size([5, 1]))"
            ]
          },
          "metadata": {
            "tags": []
          },
          "execution_count": 77
        }
      ]
    },
    {
      "cell_type": "code",
      "metadata": {
        "id": "mAZVeWBYr0o_",
        "colab_type": "code",
        "outputId": "a2393e10-c79a-4fa5-826b-ee5fd2f46448",
        "colab": {
          "base_uri": "https://localhost:8080/",
          "height": 102
        }
      },
      "source": [
        "Y.expand(5, 5)"
      ],
      "execution_count": 0,
      "outputs": [
        {
          "output_type": "execute_result",
          "data": {
            "text/plain": [
              "tensor([[1., 1., 1., 1., 1.],\n",
              "        [1., 1., 1., 1., 1.],\n",
              "        [1., 1., 1., 1., 1.],\n",
              "        [1., 1., 1., 1., 1.],\n",
              "        [1., 1., 1., 1., 1.]])"
            ]
          },
          "metadata": {
            "tags": []
          },
          "execution_count": 78
        }
      ]
    },
    {
      "cell_type": "code",
      "metadata": {
        "id": "b0bsOKsGr0pC",
        "colab_type": "code",
        "outputId": "0c5d767d-b5bb-470a-c4ac-aaaa3201e625",
        "colab": {
          "base_uri": "https://localhost:8080/",
          "height": 34
        }
      },
      "source": [
        "X = torch.eye(4)\n",
        "Y = X[3:, :]\n",
        "Y, Y.shape # It's a matrix, after squeeze it's a vector. This is similar to the (3,) in python."
      ],
      "execution_count": 0,
      "outputs": [
        {
          "output_type": "execute_result",
          "data": {
            "text/plain": [
              "(tensor([[0., 0., 0., 1.]]), torch.Size([1, 4]))"
            ]
          },
          "metadata": {
            "tags": []
          },
          "execution_count": 84
        }
      ]
    },
    {
      "cell_type": "markdown",
      "metadata": {
        "id": "I01EiNwMr0pG",
        "colab_type": "text"
      },
      "source": [
        "`squeeze` and `unsqueeze`"
      ]
    },
    {
      "cell_type": "code",
      "metadata": {
        "id": "Ja5R-Qx9r0pL",
        "colab_type": "code",
        "outputId": "b32b63ad-35ec-4b89-a13b-078fd01af51e",
        "colab": {
          "base_uri": "https://localhost:8080/",
          "height": 34
        }
      },
      "source": [
        "Y = Y.squeeze()  # removes all dimensions of size '1'\n",
        "Y, Y.shape"
      ],
      "execution_count": 0,
      "outputs": [
        {
          "output_type": "execute_result",
          "data": {
            "text/plain": [
              "(tensor([0., 0., 0., 1.]), torch.Size([4]))"
            ]
          },
          "metadata": {
            "tags": []
          },
          "execution_count": 85
        }
      ]
    },
    {
      "cell_type": "code",
      "metadata": {
        "id": "6tdWYtP3r0pR",
        "colab_type": "code",
        "outputId": "5ab3553c-ae38-4b8c-f044-517c394d44c7",
        "colab": {
          "base_uri": "https://localhost:8080/",
          "height": 85
        }
      },
      "source": [
        "Y = Y.unsqueeze(1)  # add a new dimension in position 1\n",
        "Y, Y.shape"
      ],
      "execution_count": 0,
      "outputs": [
        {
          "output_type": "execute_result",
          "data": {
            "text/plain": [
              "(tensor([[0.],\n",
              "         [0.],\n",
              "         [0.],\n",
              "         [1.]]), torch.Size([4, 1]))"
            ]
          },
          "metadata": {
            "tags": []
          },
          "execution_count": 81
        }
      ]
    },
    {
      "cell_type": "markdown",
      "metadata": {
        "id": "AUdrCGktr0pU",
        "colab_type": "text"
      },
      "source": [
        "_Note: There also exists `reshape` and `repeat` functions in PyTorch. They work similarly to `view` and `expand` but **do** copy memory_."
      ]
    },
    {
      "cell_type": "markdown",
      "metadata": {
        "id": "3hlqqwXsr0pV",
        "colab_type": "text"
      },
      "source": [
        "<div style=\"background-color:lightblue;padding:1rem;border-radius: 0.015rem 0.015rem 0.03rem 0.03rem;\">\n",
        "<h3 style=\"display: inline; font-weight:bold\">Your turn!</h3>\n",
        "</div>"
      ]
    },
    {
      "cell_type": "markdown",
      "metadata": {
        "id": "yqAZ0IXJr0pW",
        "colab_type": "text"
      },
      "source": [
        "**_Create the tensor:_**\n",
        "\n",
        "$ \\begin{bmatrix}\n",
        "7 & 5 & 5 & 5 & 5 \\\\\n",
        "5 & 7 & 5 & 5 & 5 \\\\\n",
        "5 & 5 & 7 & 5 & 5 \\\\\n",
        "5 & 5 & 5 & 7 & 5 \\\\\n",
        "5 & 5 & 5 & 5 & 7 \n",
        "\\end{bmatrix}  $\n",
        "\n",
        "Hint: You can use matrix sum and scalar multiplication"
      ]
    },
    {
      "cell_type": "code",
      "metadata": {
        "id": "24S_1hLCr0pX",
        "colab_type": "code",
        "outputId": "d8d348d2-21df-4a39-81a9-13f043a81bbe",
        "colab": {
          "base_uri": "https://localhost:8080/",
          "height": 102
        }
      },
      "source": [
        "b = torch.eye(5) * 2 + 5\n",
        "b"
      ],
      "execution_count": 0,
      "outputs": [
        {
          "output_type": "execute_result",
          "data": {
            "text/plain": [
              "tensor([[7., 5., 5., 5., 5.],\n",
              "        [5., 7., 5., 5., 5.],\n",
              "        [5., 5., 7., 5., 5.],\n",
              "        [5., 5., 5., 7., 5.],\n",
              "        [5., 5., 5., 5., 7.]])"
            ]
          },
          "metadata": {
            "tags": []
          },
          "execution_count": 86
        }
      ]
    },
    {
      "cell_type": "markdown",
      "metadata": {
        "id": "eInfJj3mr0pc",
        "colab_type": "text"
      },
      "source": [
        "**_Create the tensor:_**\n",
        "\n",
        "$ \\begin{bmatrix}\n",
        "4 & 6 & 8 & 10 & 12 \\\\\n",
        "14 & 16 & 18 & 20 & 22 \\\\\n",
        "24 & 26 & 28 & 30 & 32\n",
        "\\end{bmatrix}$"
      ]
    },
    {
      "cell_type": "code",
      "metadata": {
        "id": "GyPTDfZmr0pe",
        "colab_type": "code",
        "outputId": "2dababd5-e5c4-4baf-9dd6-18e3334e381f",
        "colab": {
          "base_uri": "https://localhost:8080/",
          "height": 68
        }
      },
      "source": [
        "c = torch.arange(4, 33, step = 2) # 33 is not evaluated, it stops at end-1\n",
        "c = c.view(3, -1) # I don't want to compute how many columns I need\n",
        "c"
      ],
      "execution_count": 0,
      "outputs": [
        {
          "output_type": "execute_result",
          "data": {
            "text/plain": [
              "tensor([[ 4,  6,  8, 10, 12],\n",
              "        [14, 16, 18, 20, 22],\n",
              "        [24, 26, 28, 30, 32]])"
            ]
          },
          "metadata": {
            "tags": []
          },
          "execution_count": 88
        }
      ]
    },
    {
      "cell_type": "markdown",
      "metadata": {
        "id": "dJh2uMSpr0pm",
        "colab_type": "text"
      },
      "source": [
        "**_Create the tensor:_**\n",
        "\n",
        "$ \\begin{bmatrix}\n",
        "2 & 2 & 2 & 2 & 2 \\\\\n",
        "4 & 4 & 4 & 4 & 4 \\\\\n",
        "6 & 6 & 6 & 6 & 6 \\\\\n",
        "8 & 8 & 8 & 8 & 8\n",
        "\\end{bmatrix}  $"
      ]
    },
    {
      "cell_type": "code",
      "metadata": {
        "id": "banmEswDr0po",
        "colab_type": "code",
        "outputId": "96822491-7493-41a3-8303-b56a79739a5b",
        "colab": {
          "base_uri": "https://localhost:8080/",
          "height": 85
        }
      },
      "source": [
        "c = torch.arange(2, 9, step = 2).unsqueeze(1) # Before I expand I need to add a dimension\n",
        "c = c.expand(4, 5)\n",
        "c # I don't copy memory, I only have 4 values in memory that are then copied, but not stored."
      ],
      "execution_count": 0,
      "outputs": [
        {
          "output_type": "execute_result",
          "data": {
            "text/plain": [
              "tensor([[2, 2, 2, 2, 2],\n",
              "        [4, 4, 4, 4, 4],\n",
              "        [6, 6, 6, 6, 6],\n",
              "        [8, 8, 8, 8, 8]])"
            ]
          },
          "metadata": {
            "tags": []
          },
          "execution_count": 91
        }
      ]
    },
    {
      "cell_type": "markdown",
      "metadata": {
        "id": "2xp7Htpnr0pt",
        "colab_type": "text"
      },
      "source": [
        "<div style=\"background-color:lightblue;padding:1rem;border-radius: 0.015rem 0.015rem 0.03rem 0.03rem;\">\n",
        "<h3 style=\"display: inline; font-weight:bold\"></h3>\n",
        "</div>"
      ]
    },
    {
      "cell_type": "markdown",
      "metadata": {
        "id": "uir81g6Zr0pu",
        "colab_type": "text"
      },
      "source": [
        "## Masking"
      ]
    },
    {
      "cell_type": "code",
      "metadata": {
        "id": "gKb6sWWMr0pv",
        "colab_type": "code",
        "outputId": "7c4476fe-d225-444d-daa8-bc5bea63f88a",
        "colab": {
          "base_uri": "https://localhost:8080/",
          "height": 102
        }
      },
      "source": [
        "X = torch.randint(100, (5, 3))\n",
        "X"
      ],
      "execution_count": 0,
      "outputs": [
        {
          "output_type": "execute_result",
          "data": {
            "text/plain": [
              "tensor([[89, 59, 32],\n",
              "        [80, 74, 11],\n",
              "        [38, 62, 63],\n",
              "        [59, 77, 48],\n",
              "        [47, 34, 50]])"
            ]
          },
          "metadata": {
            "tags": []
          },
          "execution_count": 92
        }
      ]
    },
    {
      "cell_type": "code",
      "metadata": {
        "id": "2G8yaW39r0p4",
        "colab_type": "code",
        "outputId": "36e3be98-e17b-484b-9ce3-e9271b7f1f7f",
        "colab": {
          "base_uri": "https://localhost:8080/",
          "height": 102
        }
      },
      "source": [
        "mask = (X > 25) & (X < 75)\n",
        "mask # It's boolean masking"
      ],
      "execution_count": 0,
      "outputs": [
        {
          "output_type": "execute_result",
          "data": {
            "text/plain": [
              "tensor([[False,  True,  True],\n",
              "        [False,  True, False],\n",
              "        [ True,  True,  True],\n",
              "        [ True, False,  True],\n",
              "        [ True,  True,  True]])"
            ]
          },
          "metadata": {
            "tags": []
          },
          "execution_count": 93
        }
      ]
    },
    {
      "cell_type": "code",
      "metadata": {
        "id": "iqh4HvBer0p9",
        "colab_type": "code",
        "outputId": "bf4d6a92-3863-4ed7-9500-7bc4e262d15e",
        "colab": {
          "base_uri": "https://localhost:8080/",
          "height": 34
        }
      },
      "source": [
        "X[mask]  # returns all elements matching the criteria in a 1D-tensor"
      ],
      "execution_count": 0,
      "outputs": [
        {
          "output_type": "execute_result",
          "data": {
            "text/plain": [
              "tensor([59, 32, 74, 38, 62, 63, 59, 48, 47, 34, 50])"
            ]
          },
          "metadata": {
            "tags": []
          },
          "execution_count": 94
        }
      ]
    },
    {
      "cell_type": "code",
      "metadata": {
        "id": "DDs_Q0P2r0qB",
        "colab_type": "code",
        "outputId": "69ad42b8-56b1-4cba-914b-1cd0760e65d3",
        "colab": {
          "base_uri": "https://localhost:8080/",
          "height": 34
        }
      },
      "source": [
        "mask.sum()  # number of elements that fulfill the condition"
      ],
      "execution_count": 0,
      "outputs": [
        {
          "output_type": "execute_result",
          "data": {
            "text/plain": [
              "tensor(11)"
            ]
          },
          "metadata": {
            "tags": []
          },
          "execution_count": 95
        }
      ]
    },
    {
      "cell_type": "code",
      "metadata": {
        "id": "Fjh1GBATr0qF",
        "colab_type": "code",
        "outputId": "cb28b879-5bf9-4ddd-dff4-d4b7061f266d",
        "colab": {
          "base_uri": "https://localhost:8080/",
          "height": 102
        }
      },
      "source": [
        "(X == 25) | (X > 60)"
      ],
      "execution_count": 0,
      "outputs": [
        {
          "output_type": "execute_result",
          "data": {
            "text/plain": [
              "tensor([[ True, False, False],\n",
              "        [ True,  True, False],\n",
              "        [False,  True,  True],\n",
              "        [False,  True, False],\n",
              "        [False, False, False]])"
            ]
          },
          "metadata": {
            "tags": []
          },
          "execution_count": 96
        }
      ]
    },
    {
      "cell_type": "code",
      "metadata": {
        "id": "1QITVrBSr0qI",
        "colab_type": "code",
        "outputId": "6b2e4d95-3a15-4c7c-ba6a-c4af2463d6c0",
        "colab": {
          "base_uri": "https://localhost:8080/",
          "height": 102
        }
      },
      "source": [
        "X[mask] = 0  # You can assign new values only to indices matching the condition:\n",
        "X"
      ],
      "execution_count": 0,
      "outputs": [
        {
          "output_type": "execute_result",
          "data": {
            "text/plain": [
              "tensor([[89,  0,  0],\n",
              "        [80,  0, 11],\n",
              "        [ 0,  0,  0],\n",
              "        [ 0, 77,  0],\n",
              "        [ 0,  0,  0]])"
            ]
          },
          "metadata": {
            "tags": []
          },
          "execution_count": 97
        }
      ]
    },
    {
      "cell_type": "markdown",
      "metadata": {
        "id": "A7lUlftUr0qb",
        "colab_type": "text"
      },
      "source": [
        "<div style=\"background-color:lightblue;padding:1rem;border-radius: 0.015rem 0.015rem 0.03rem 0.03rem;\">\n",
        "<h3 style=\"display: inline; font-weight:bold\">Your turn!</h3>\n",
        "</div>"
      ]
    },
    {
      "cell_type": "code",
      "metadata": {
        "id": "VxUQo7Cgr0qd",
        "colab_type": "code",
        "colab": {}
      },
      "source": [
        "X = torch.tensor([[1, 0, 2], [4, 6, 0]])"
      ],
      "execution_count": 0,
      "outputs": []
    },
    {
      "cell_type": "markdown",
      "metadata": {
        "id": "Vno_V_qjr0qg",
        "colab_type": "text"
      },
      "source": [
        "Get the number of non-zeros in **X**"
      ]
    },
    {
      "cell_type": "code",
      "metadata": {
        "id": "3FMoCtBjr0qi",
        "colab_type": "code",
        "outputId": "fb5fd92e-3abb-4fc5-d6f8-f2d4624d7468",
        "colab": {
          "base_uri": "https://localhost:8080/",
          "height": 34
        }
      },
      "source": [
        "mask = (X != 0).sum() # Or X.nonzero()\n",
        "mask"
      ],
      "execution_count": 0,
      "outputs": [
        {
          "output_type": "execute_result",
          "data": {
            "text/plain": [
              "tensor(4)"
            ]
          },
          "metadata": {
            "tags": []
          },
          "execution_count": 101
        }
      ]
    },
    {
      "cell_type": "markdown",
      "metadata": {
        "id": "G-nhVoTpr0q0",
        "colab_type": "text"
      },
      "source": [
        "Compute the sum of all entries in **X** that are larger than the mean of all values in **X**."
      ]
    },
    {
      "cell_type": "code",
      "metadata": {
        "id": "fU-yJau6r0q1",
        "colab_type": "code",
        "outputId": "c14c5ca0-95c6-4d62-8004-4b02dbd34140",
        "colab": {
          "base_uri": "https://localhost:8080/",
          "height": 34
        }
      },
      "source": [
        "X_p = X.float().mean()\n",
        "X_p\n",
        "mask = (X > X_p).sum()\n",
        "mask"
      ],
      "execution_count": 0,
      "outputs": [
        {
          "output_type": "execute_result",
          "data": {
            "text/plain": [
              "tensor(2)"
            ]
          },
          "metadata": {
            "tags": []
          },
          "execution_count": 105
        }
      ]
    },
    {
      "cell_type": "markdown",
      "metadata": {
        "id": "GmpS_bp8r0q4",
        "colab_type": "text"
      },
      "source": [
        "Clip _(limit)_ all values of **X** between 0 and 3"
      ]
    },
    {
      "cell_type": "code",
      "metadata": {
        "id": "WGxlt6Xwr0q4",
        "colab_type": "code",
        "outputId": "2761d1f5-c117-42fa-88b0-8481408fe413",
        "colab": {
          "base_uri": "https://localhost:8080/",
          "height": 51
        }
      },
      "source": [
        "mask1 = X < 0\n",
        "X[mask1] = 0\n",
        "mask2 = X > 3\n",
        "X[mask2] = 3\n",
        "X"
      ],
      "execution_count": 0,
      "outputs": [
        {
          "output_type": "execute_result",
          "data": {
            "text/plain": [
              "tensor([[1, 0, 2],\n",
              "        [3, 3, 0]])"
            ]
          },
          "metadata": {
            "tags": []
          },
          "execution_count": 114
        }
      ]
    },
    {
      "cell_type": "markdown",
      "metadata": {
        "id": "hZ9o3WZ3r0q6",
        "colab_type": "text"
      },
      "source": [
        "<div style=\"background-color:lightblue;padding:1rem;border-radius: 0.015rem 0.015rem 0.03rem 0.03rem;\">\n",
        "<h3 style=\"display: inline; font-weight:bold\"></h3>\n",
        "</div>"
      ]
    },
    {
      "cell_type": "markdown",
      "metadata": {
        "id": "DjzLY1F6r0q6",
        "colab_type": "text"
      },
      "source": [
        "## And many more ..."
      ]
    },
    {
      "cell_type": "code",
      "metadata": {
        "id": "PAqeYMWjr0q7",
        "colab_type": "code",
        "colab": {}
      },
      "source": [
        "# press tab to autocomplete\n",
        "# x."
      ],
      "execution_count": 0,
      "outputs": []
    },
    {
      "cell_type": "markdown",
      "metadata": {
        "id": "DfDAZFLOr0q9",
        "colab_type": "text"
      },
      "source": [
        "---\n",
        "\n",
        "# Tensor Conversions"
      ]
    },
    {
      "cell_type": "markdown",
      "metadata": {
        "id": "rCjYO5iDr0q9",
        "colab_type": "text"
      },
      "source": [
        "## Type conversions"
      ]
    },
    {
      "cell_type": "markdown",
      "metadata": {
        "id": "Cn1rgdUGr0q_",
        "colab_type": "text"
      },
      "source": [
        "The easiest way to cast a Tensor to a different type is to use the `Tensor.to(type)` function."
      ]
    },
    {
      "cell_type": "code",
      "metadata": {
        "id": "L_bQz4cjr0rA",
        "colab_type": "code",
        "outputId": "63194643-afa0-4769-f973-1adfc561b413",
        "colab": {
          "base_uri": "https://localhost:8080/",
          "height": 51
        }
      },
      "source": [
        "Y = 4 * torch.rand((2,4))\n",
        "Y"
      ],
      "execution_count": 0,
      "outputs": [
        {
          "output_type": "execute_result",
          "data": {
            "text/plain": [
              "tensor([[2.7265, 0.6263, 0.2743, 0.3666],\n",
              "        [1.1418, 0.4325, 1.5740, 0.8671]])"
            ]
          },
          "metadata": {
            "tags": []
          },
          "execution_count": 109
        }
      ]
    },
    {
      "cell_type": "code",
      "metadata": {
        "id": "1OcsHRfJr0rE",
        "colab_type": "code",
        "outputId": "aeaed6d7-3bb1-4821-af45-1be49962a874",
        "colab": {
          "base_uri": "https://localhost:8080/",
          "height": 34
        }
      },
      "source": [
        "Y.dtype"
      ],
      "execution_count": 0,
      "outputs": [
        {
          "output_type": "execute_result",
          "data": {
            "text/plain": [
              "torch.float32"
            ]
          },
          "metadata": {
            "tags": []
          },
          "execution_count": 107
        }
      ]
    },
    {
      "cell_type": "code",
      "metadata": {
        "id": "0ASiBO8Pr0rF",
        "colab_type": "code",
        "outputId": "2b819cc9-16f5-4f49-9b5e-61038e3b1898",
        "colab": {
          "base_uri": "https://localhost:8080/",
          "height": 51
        }
      },
      "source": [
        "Y.to(torch.float16) # Check the rounding!"
      ],
      "execution_count": 0,
      "outputs": [
        {
          "output_type": "execute_result",
          "data": {
            "text/plain": [
              "tensor([[2.7266, 0.6265, 0.2744, 0.3667],\n",
              "        [1.1416, 0.4326, 1.5742, 0.8672]], dtype=torch.float16)"
            ]
          },
          "metadata": {
            "tags": []
          },
          "execution_count": 110
        }
      ]
    },
    {
      "cell_type": "code",
      "metadata": {
        "id": "63Viltm1r0rH",
        "colab_type": "code",
        "outputId": "d5e93091-1fa2-4a9d-f4ae-61f10dece89c",
        "colab": {
          "base_uri": "https://localhost:8080/",
          "height": 51
        }
      },
      "source": [
        "Y.to(torch.int64)"
      ],
      "execution_count": 0,
      "outputs": [
        {
          "output_type": "execute_result",
          "data": {
            "text/plain": [
              "tensor([[2, 0, 0, 0],\n",
              "        [1, 0, 1, 0]])"
            ]
          },
          "metadata": {
            "tags": []
          },
          "execution_count": 111
        }
      ]
    },
    {
      "cell_type": "code",
      "metadata": {
        "id": "rs1S64aVr0rJ",
        "colab_type": "code",
        "outputId": "09151a06-2120-42ba-f91f-c57e3530954c",
        "colab": {
          "base_uri": "https://localhost:8080/",
          "height": 51
        }
      },
      "source": [
        "Y.to(torch.bool)"
      ],
      "execution_count": 0,
      "outputs": [
        {
          "output_type": "execute_result",
          "data": {
            "text/plain": [
              "tensor([[True, True, True, True],\n",
              "        [True, True, True, True]])"
            ]
          },
          "metadata": {
            "tags": []
          },
          "execution_count": 112
        }
      ]
    },
    {
      "cell_type": "markdown",
      "metadata": {
        "id": "9ig8i52Cr0rL",
        "colab_type": "text"
      },
      "source": [
        "Note the automatic type promotion :"
      ]
    },
    {
      "cell_type": "code",
      "metadata": {
        "id": "dNdzUbLhr0rL",
        "colab_type": "code",
        "outputId": "6ca2cb1a-74b0-4487-99db-7a4f4d5dac8c",
        "colab": {
          "base_uri": "https://localhost:8080/",
          "height": 34
        }
      },
      "source": [
        "torch.LongTensor([1, 2]) + torch.FloatTensor([1.1, 2.2])"
      ],
      "execution_count": 0,
      "outputs": [
        {
          "output_type": "execute_result",
          "data": {
            "text/plain": [
              "tensor([2.1000, 4.2000])"
            ]
          },
          "metadata": {
            "tags": []
          },
          "execution_count": 115
        }
      ]
    },
    {
      "cell_type": "markdown",
      "metadata": {
        "id": "y3YuCGfkr0rO",
        "colab_type": "text"
      },
      "source": [
        "## Converting between PyTorch and NumPy"
      ]
    },
    {
      "cell_type": "code",
      "metadata": {
        "id": "mVweVx9kr0rP",
        "colab_type": "code",
        "outputId": "3ae6fd8b-fc0c-44a6-f907-dc68520e4ac0",
        "colab": {
          "base_uri": "https://localhost:8080/",
          "height": 102
        }
      },
      "source": [
        "X = np.random.random((5,3))\n",
        "X"
      ],
      "execution_count": 0,
      "outputs": [
        {
          "output_type": "execute_result",
          "data": {
            "text/plain": [
              "array([[6.85014051e-01, 6.48114171e-02, 1.38500697e-01],\n",
              "       [2.57416040e-01, 4.01555432e-01, 7.62317018e-01],\n",
              "       [2.98796849e-01, 8.35883523e-01, 3.78134298e-01],\n",
              "       [2.02665165e-01, 1.25007607e-01, 6.45879294e-01],\n",
              "       [1.38446485e-01, 1.45469355e-04, 7.25413036e-01]])"
            ]
          },
          "metadata": {
            "tags": []
          },
          "execution_count": 116
        }
      ]
    },
    {
      "cell_type": "code",
      "metadata": {
        "id": "o4sJpRB0r0rS",
        "colab_type": "code",
        "outputId": "238603ca-538a-4b69-8bb7-f8c6b7afb3a7",
        "colab": {
          "base_uri": "https://localhost:8080/",
          "height": 102
        }
      },
      "source": [
        "# numpy ---> torch\n",
        "Y = torch.from_numpy(X)  # Y is actually a DoubleTensor (i.e. 64-bit representation)\n",
        "Y"
      ],
      "execution_count": 0,
      "outputs": [
        {
          "output_type": "execute_result",
          "data": {
            "text/plain": [
              "tensor([[6.8501e-01, 6.4811e-02, 1.3850e-01],\n",
              "        [2.5742e-01, 4.0156e-01, 7.6232e-01],\n",
              "        [2.9880e-01, 8.3588e-01, 3.7813e-01],\n",
              "        [2.0267e-01, 1.2501e-01, 6.4588e-01],\n",
              "        [1.3845e-01, 1.4547e-04, 7.2541e-01]], dtype=torch.float64)"
            ]
          },
          "metadata": {
            "tags": []
          },
          "execution_count": 117
        }
      ]
    },
    {
      "cell_type": "code",
      "metadata": {
        "id": "RoX3uqMqr0rT",
        "colab_type": "code",
        "outputId": "39d04695-f133-495c-cfee-44f31c854d0e",
        "colab": {
          "base_uri": "https://localhost:8080/",
          "height": 51
        }
      },
      "source": [
        "Y = torch.rand((2,4))\n",
        "Y"
      ],
      "execution_count": 0,
      "outputs": [
        {
          "output_type": "execute_result",
          "data": {
            "text/plain": [
              "tensor([[0.0800, 0.6198, 0.1831, 0.2877],\n",
              "        [0.8353, 0.0981, 0.5795, 0.0496]])"
            ]
          },
          "metadata": {
            "tags": []
          },
          "execution_count": 118
        }
      ]
    },
    {
      "cell_type": "code",
      "metadata": {
        "id": "iq8QyF7sr0rV",
        "colab_type": "code",
        "outputId": "37d9e1d1-8de2-4b98-92d7-4af7bbc9866a",
        "colab": {
          "base_uri": "https://localhost:8080/",
          "height": 51
        }
      },
      "source": [
        "# torch ---> numpy\n",
        "X = Y.numpy()\n",
        "X"
      ],
      "execution_count": 0,
      "outputs": [
        {
          "output_type": "execute_result",
          "data": {
            "text/plain": [
              "array([[0.07999748, 0.6198487 , 0.18313593, 0.287745  ],\n",
              "       [0.8353272 , 0.09813845, 0.5794977 , 0.04959142]], dtype=float32)"
            ]
          },
          "metadata": {
            "tags": []
          },
          "execution_count": 119
        }
      ]
    },
    {
      "cell_type": "markdown",
      "metadata": {
        "id": "3ZSf_KBDr0rX",
        "colab_type": "text"
      },
      "source": [
        "## Converting between GPU and CPU"
      ]
    },
    {
      "cell_type": "markdown",
      "metadata": {
        "id": "EX06xX8Dr0rY",
        "colab_type": "text"
      },
      "source": [
        "First, you may want to check: \n",
        " - that cuda can actually be used : `torch.cuda.is_available()`\n",
        " - how many gpus are available : `torch.cuda.device_count()`"
      ]
    },
    {
      "cell_type": "code",
      "metadata": {
        "id": "iEWhr2a3r0rZ",
        "colab_type": "code",
        "outputId": "6f65b3fe-a5de-46ca-8a04-df70bdbbb3e4",
        "colab": {
          "base_uri": "https://localhost:8080/",
          "height": 34
        }
      },
      "source": [
        "torch.cuda.is_available()"
      ],
      "execution_count": 0,
      "outputs": [
        {
          "output_type": "execute_result",
          "data": {
            "text/plain": [
              "True"
            ]
          },
          "metadata": {
            "tags": []
          },
          "execution_count": 120
        }
      ]
    },
    {
      "cell_type": "code",
      "metadata": {
        "id": "Mi3iSiGpr0re",
        "colab_type": "code",
        "outputId": "8d5ec2bd-ab8b-4953-f215-991ded59c596",
        "colab": {
          "base_uri": "https://localhost:8080/",
          "height": 34
        }
      },
      "source": [
        "torch.cuda.device_count()"
      ],
      "execution_count": 0,
      "outputs": [
        {
          "output_type": "execute_result",
          "data": {
            "text/plain": [
              "1"
            ]
          },
          "metadata": {
            "tags": []
          },
          "execution_count": 121
        }
      ]
    },
    {
      "cell_type": "code",
      "metadata": {
        "id": "71zTbLkMr0rg",
        "colab_type": "code",
        "outputId": "5bf0fabc-2848-473b-bf6d-c4e75a459a31",
        "colab": {
          "base_uri": "https://localhost:8080/",
          "height": 51
        }
      },
      "source": [
        "x = torch.Tensor([[1,2,3], [4,5,6]])\n",
        "print(x)"
      ],
      "execution_count": 0,
      "outputs": [
        {
          "output_type": "stream",
          "text": [
            "tensor([[1., 2., 3.],\n",
            "        [4., 5., 6.]])\n"
          ],
          "name": "stdout"
        }
      ]
    },
    {
      "cell_type": "markdown",
      "metadata": {
        "id": "5R1IPatpr0ri",
        "colab_type": "text"
      },
      "source": [
        "### `torch.device`"
      ]
    },
    {
      "cell_type": "markdown",
      "metadata": {
        "id": "Wm-EgQUfr0rj",
        "colab_type": "text"
      },
      "source": [
        "The best way to easily move a tensor from a device to another is again by using the **`Tensor.to(...)`** function.  \n",
        "You need to pass as argument a **`torch.device`** object.\n",
        "\n",
        "A **`torch.device`** is an object representing the device on which a torch.tensor is or will be allocated.\n",
        "\n",
        "_Note : If you don't have Cuda on the machine, the following examples won't work_"
      ]
    },
    {
      "cell_type": "code",
      "metadata": {
        "id": "0a2AJbgwr0rl",
        "colab_type": "code",
        "outputId": "5f3a3045-39dd-430c-c9e8-e83bce2c9f0f",
        "colab": {
          "base_uri": "https://localhost:8080/",
          "height": 51
        }
      },
      "source": [
        "cpu = torch.device('cpu')\n",
        "cuda_0 = torch.device('cuda:0')\n",
        "\n",
        "x = x.to(cpu)\n",
        "print(x.device)\n",
        "x = x.to(cuda_0)\n",
        "print(x.device)"
      ],
      "execution_count": 0,
      "outputs": [
        {
          "output_type": "stream",
          "text": [
            "cpu\n",
            "cuda:0\n"
          ],
          "name": "stdout"
        }
      ]
    },
    {
      "cell_type": "markdown",
      "metadata": {
        "id": "3ydOtdeur0rp",
        "colab_type": "text"
      },
      "source": [
        "It is flexible since you can check if cuda exists only once in your code. ***Then I will only know if I don't have a GPU because it takes long to run.***"
      ]
    },
    {
      "cell_type": "code",
      "metadata": {
        "id": "acc6-v1nr0rp",
        "colab_type": "code",
        "outputId": "e958ba64-0be1-4065-d5bd-5b292478764a",
        "colab": {
          "base_uri": "https://localhost:8080/",
          "height": 34
        }
      },
      "source": [
        "device = torch.device('cuda' if torch.cuda.is_available() else 'cpu')\n",
        "x = x.to(device)  # We don't need to worry anymore about whether cuda is available or not\n",
        "print(x.device)"
      ],
      "execution_count": 0,
      "outputs": [
        {
          "output_type": "stream",
          "text": [
            "cuda:0\n"
          ],
          "name": "stdout"
        }
      ]
    },
    {
      "cell_type": "markdown",
      "metadata": {
        "id": "SGaNE-k-r0rr",
        "colab_type": "text"
      },
      "source": [
        "### `Tensor.cuda` and `Tensor.cpu`\n",
        "\n",
        "When you know in advance what device you want to move to, you can use the `Tensor.cuda()` and `Tensor.cpu()` functions.\n"
      ]
    },
    {
      "cell_type": "code",
      "metadata": {
        "id": "X1A4m8zSr0rs",
        "colab_type": "code",
        "outputId": "1a602018-cbf5-43b7-db1d-644fbf312530",
        "colab": {
          "base_uri": "https://localhost:8080/",
          "height": 51
        }
      },
      "source": [
        "x = torch.Tensor([[1,2,3], [4,5,6]])\n",
        "print(x)"
      ],
      "execution_count": 0,
      "outputs": [
        {
          "output_type": "stream",
          "text": [
            "tensor([[1., 2., 3.],\n",
            "        [4., 5., 6.]])\n"
          ],
          "name": "stdout"
        }
      ]
    },
    {
      "cell_type": "code",
      "metadata": {
        "id": "cu35HBddr0rx",
        "colab_type": "code",
        "outputId": "35d7b451-c5f8-47df-ac9e-a8329e3810d0",
        "colab": {
          "base_uri": "https://localhost:8080/",
          "height": 85
        }
      },
      "source": [
        "x.cuda()\n",
        "print(x.device)\n",
        "x = x.cuda()\n",
        "print(x.device)\n",
        "x = x.cuda(0)\n",
        "print(x.device)\n",
        "x = x.cpu()\n",
        "print(x.device)"
      ],
      "execution_count": 0,
      "outputs": [
        {
          "output_type": "stream",
          "text": [
            "cuda:0\n",
            "cuda:0\n",
            "cuda:0\n",
            "cpu\n"
          ],
          "name": "stdout"
        }
      ]
    },
    {
      "cell_type": "code",
      "metadata": {
        "id": "mhP0a-mur0r0",
        "colab_type": "code",
        "outputId": "35a5286e-8f3c-4864-876d-e873e58f5cb4",
        "colab": {
          "base_uri": "https://localhost:8080/",
          "height": 197
        }
      },
      "source": [
        "x = torch.Tensor([[1,2,3], [4,5,6]])\n",
        "\n",
        "# This will generate an error since you cannot do operation on tensor that are not on the same device\n",
        "x + x.cuda()"
      ],
      "execution_count": 0,
      "outputs": [
        {
          "output_type": "error",
          "ename": "RuntimeError",
          "evalue": "ignored",
          "traceback": [
            "\u001b[0;31m---------------------------------------------------------------------------\u001b[0m",
            "\u001b[0;31mRuntimeError\u001b[0m                              Traceback (most recent call last)",
            "\u001b[0;32m<ipython-input-128-e5815d04a823>\u001b[0m in \u001b[0;36m<module>\u001b[0;34m()\u001b[0m\n\u001b[1;32m      2\u001b[0m \u001b[0;34m\u001b[0m\u001b[0m\n\u001b[1;32m      3\u001b[0m \u001b[0;31m# This will generate an error since you cannot do operation on tensor that are not on the same device\u001b[0m\u001b[0;34m\u001b[0m\u001b[0;34m\u001b[0m\u001b[0;34m\u001b[0m\u001b[0m\n\u001b[0;32m----> 4\u001b[0;31m \u001b[0mx\u001b[0m \u001b[0;34m+\u001b[0m \u001b[0mx\u001b[0m\u001b[0;34m.\u001b[0m\u001b[0mcuda\u001b[0m\u001b[0;34m(\u001b[0m\u001b[0;34m)\u001b[0m\u001b[0;34m\u001b[0m\u001b[0;34m\u001b[0m\u001b[0m\n\u001b[0m",
            "\u001b[0;31mRuntimeError\u001b[0m: expected device cpu but got device cuda:0"
          ]
        }
      ]
    },
    {
      "cell_type": "markdown",
      "metadata": {
        "id": "K5zCwteir0r5",
        "colab_type": "text"
      },
      "source": [
        "#### Write an if statement that moves x on gpu if cuda is available"
      ]
    },
    {
      "cell_type": "code",
      "metadata": {
        "id": "sMkg3b3Dr0r6",
        "colab_type": "code",
        "colab": {}
      },
      "source": [
        "# useless"
      ],
      "execution_count": 0,
      "outputs": []
    },
    {
      "cell_type": "markdown",
      "metadata": {
        "id": "Y0XK5ZpHr0r8",
        "colab_type": "text"
      },
      "source": [
        "These kinds of if statements used to be all over the place in people's code.  \n",
        "Now, the more flexible `Tensor.to(...)` function is available and should be used preferably."
      ]
    },
    {
      "cell_type": "markdown",
      "metadata": {
        "id": "6wkP49jxr0r9",
        "colab_type": "text"
      },
      "source": [
        "### Timing GPU"
      ]
    },
    {
      "cell_type": "markdown",
      "metadata": {
        "id": "MG_UgFJSr0r-",
        "colab_type": "text"
      },
      "source": [
        "How much faster is GPU ?  See for yourself ..."
      ]
    },
    {
      "cell_type": "code",
      "metadata": {
        "id": "9BpGh-Ryr0r-",
        "colab_type": "code",
        "outputId": "dedeceee-56d7-4536-9a13-7465193cdf23",
        "colab": {
          "base_uri": "https://localhost:8080/",
          "height": 34
        }
      },
      "source": [
        "A = torch.rand(100, 1000, 1000)\n",
        "B = A.cuda()\n",
        "A.size()"
      ],
      "execution_count": 0,
      "outputs": [
        {
          "output_type": "execute_result",
          "data": {
            "text/plain": [
              "torch.Size([100, 1000, 1000])"
            ]
          },
          "metadata": {
            "tags": []
          },
          "execution_count": 132
        }
      ]
    },
    {
      "cell_type": "code",
      "metadata": {
        "id": "Fe-u6Ydtr0sA",
        "colab_type": "code",
        "outputId": "a07c6889-0d00-4817-9e22-639a78e543a8",
        "colab": {
          "base_uri": "https://localhost:8080/",
          "height": 34
        }
      },
      "source": [
        "%timeit -n 3 torch.bmm(A, A)"
      ],
      "execution_count": 0,
      "outputs": [
        {
          "output_type": "stream",
          "text": [
            "3 loops, best of 3: 2.36 s per loop\n"
          ],
          "name": "stdout"
        }
      ]
    },
    {
      "cell_type": "code",
      "metadata": {
        "id": "D0ksWF07r0sC",
        "colab_type": "code",
        "outputId": "16af50a9-b812-4d35-fdaa-fa7c1c8864f2",
        "colab": {
          "base_uri": "https://localhost:8080/",
          "height": 34
        }
      },
      "source": [
        "%timeit -n 30 torch.bmm(B, B)"
      ],
      "execution_count": 0,
      "outputs": [
        {
          "output_type": "stream",
          "text": [
            "30 loops, best of 3: 18.4 µs per loop\n"
          ],
          "name": "stdout"
        }
      ]
    },
    {
      "cell_type": "markdown",
      "metadata": {
        "id": "w3rA3u_4r0sH",
        "colab_type": "text"
      },
      "source": [
        "___"
      ]
    },
    {
      "cell_type": "markdown",
      "metadata": {
        "id": "rbawQtv-r0sJ",
        "colab_type": "text"
      },
      "source": [
        "<!--NAVIGATION-->\n",
        "# | Basics | [Autograd >](2-Autograd.ipynb)"
      ]
    }
  ]
}